{
 "cells": [
  {
   "cell_type": "code",
   "execution_count": 1,
   "metadata": {
    "collapsed": true
   },
   "outputs": [],
   "source": [
    "%matplotlib inline"
   ]
  },
  {
   "cell_type": "markdown",
   "metadata": {},
   "source": [
    "# 0. General note"
   ]
  },
  {
   "cell_type": "markdown",
   "metadata": {},
   "source": [
    "* `pymatgen` works only with `py35`\n",
    "\n",
    "* This notebook shows how to make an XRD plot using `pymatgen`.\n",
    "\n",
    "* This also aims to show how to read `CIF` files, convert them to `JCPDS`."
   ]
  },
  {
   "cell_type": "markdown",
   "metadata": {},
   "source": [
    "# 1. General setup"
   ]
  },
  {
   "cell_type": "code",
   "execution_count": 2,
   "metadata": {
    "collapsed": true
   },
   "outputs": [],
   "source": [
    "import pymatgen as mg\n",
    "from pymatgen import Lattice, Structure\n",
    "from pymatgen.analysis.diffraction.xrd import XRDCalculator\n",
    "from pymatgen.symmetry.analyzer import SpacegroupAnalyzer\n",
    "import numpy as np\n",
    "import pandas as pd\n",
    "import matplotlib.pyplot as plt"
   ]
  },
  {
   "cell_type": "markdown",
   "metadata": {},
   "source": [
    "Import `ds_jcpds` which is used by `peakpo`.  Because of this, if you move this notebook out of its original directory, this notebook needs modification to function properly."
   ]
  },
  {
   "cell_type": "code",
   "execution_count": 3,
   "metadata": {},
   "outputs": [],
   "source": [
    "import sys\n",
    "sys.path.insert(0, '../peakpo')\n",
    "import ds_jcpds"
   ]
  },
  {
   "cell_type": "code",
   "execution_count": 4,
   "metadata": {
    "collapsed": true
   },
   "outputs": [],
   "source": [
    "fn_cif = \"../jcpds_from_cif/CIFs/corundum_Kirfel1990.cif\"\n",
    "fn_jcpds = '../jcpds_from_cif/Al2O3.jcpds'\n",
    "comments_jcpds = \"corundum by Kirfel 1990\""
   ]
  },
  {
   "cell_type": "code",
   "execution_count": 5,
   "metadata": {
    "collapsed": true
   },
   "outputs": [],
   "source": [
    "k0 = 160.\n",
    "k0p = 4.00\n",
    "alpha = 3.16e-5"
   ]
  },
  {
   "cell_type": "code",
   "execution_count": 6,
   "metadata": {
    "collapsed": true
   },
   "outputs": [],
   "source": [
    "wl_xray = 0.3344\n",
    "xrange = (0,40)"
   ]
  },
  {
   "cell_type": "markdown",
   "metadata": {},
   "source": [
    "# 2. Read CIF of Bridgmanite"
   ]
  },
  {
   "cell_type": "markdown",
   "metadata": {},
   "source": [
    "The `cif` file below was downloaded from American mineralogist crystal structure database."
   ]
  },
  {
   "cell_type": "code",
   "execution_count": 7,
   "metadata": {
    "collapsed": true,
    "run_control": {
     "marked": true
    }
   },
   "outputs": [],
   "source": [
    "material = mg.Structure.from_file(fn_cif)"
   ]
  },
  {
   "cell_type": "markdown",
   "metadata": {},
   "source": [
    "# 3. Get some contents from CIF"
   ]
  },
  {
   "cell_type": "code",
   "execution_count": 8,
   "metadata": {},
   "outputs": [
    {
     "name": "stdout",
     "output_type": "stream",
     "text": [
      "Unit-cell volume =  254.524259692\n",
      "Density =  3.991226963516955 g\n",
      "Chemical formula =  Al12 O18\n"
     ]
    }
   ],
   "source": [
    "print('Unit-cell volume = ', material.volume)\n",
    "print('Density = ', material.density)\n",
    "print('Chemical formula = ', material.formula)"
   ]
  },
  {
   "cell_type": "markdown",
   "metadata": {},
   "source": [
    "# 4. Get lattice parameters"
   ]
  },
  {
   "cell_type": "code",
   "execution_count": 9,
   "metadata": {},
   "outputs": [
    {
     "name": "stdout",
     "output_type": "stream",
     "text": [
      "Lattice parameters =  4.757 4.757 12.9877 90.0 90.0 120.0\n",
      "trigonal\n"
     ]
    }
   ],
   "source": [
    "lattice = material.lattice\n",
    "print('Lattice parameters = ', lattice.a, lattice.b, lattice.c, \\\n",
    "      lattice.alpha, lattice.beta, lattice.gamma)\n",
    "crystal_system = SpacegroupAnalyzer(material).get_crystal_system()\n",
    "print(crystal_system)"
   ]
  },
  {
   "cell_type": "markdown",
   "metadata": {},
   "source": [
    "# 5. Get diffraction pattern"
   ]
  },
  {
   "cell_type": "code",
   "execution_count": 10,
   "metadata": {
    "collapsed": true
   },
   "outputs": [],
   "source": [
    "c = XRDCalculator(wavelength=wl_xray)\n",
    "pattern = c.get_xrd_data(material, two_theta_range = xrange)"
   ]
  },
  {
   "cell_type": "markdown",
   "metadata": {},
   "source": [
    "## 5.1. Extract twotheta, d-sp, int, hkl"
   ]
  },
  {
   "cell_type": "code",
   "execution_count": 11,
   "metadata": {},
   "outputs": [
    {
     "name": "stdout",
     "output_type": "stream",
     "text": [
      "[[  5.50982446e+00   3.47871214e+00   4.78556021e+01   1.00000000e+00\n",
      "    0.00000000e+00   2.00000000e+00]\n",
      " [  7.51871844e+00   2.55009722e+00   7.97457632e+01   1.00000000e+00\n",
      "    0.00000000e+00   4.00000000e+00]\n",
      " [  8.06202386e+00   2.37850000e+00   3.72574125e+01   2.00000000e+00\n",
      "   -1.00000000e+00   0.00000000e+00]\n",
      " ..., \n",
      " [  3.96871028e+01   4.92557143e-01   1.18076820e+00   4.00000000e+00\n",
      "   -2.00000000e+00   2.40000000e+01]\n",
      " [  3.98302664e+01   4.90858219e-01   8.50345008e-03   8.00000000e+00\n",
      "    0.00000000e+00   8.00000000e+00]\n",
      " [  3.98888823e+01   4.90166221e-01   1.38637524e-01   8.00000000e+00\n",
      "   -4.00000000e+00   1.50000000e+01]]\n"
     ]
    }
   ],
   "source": [
    "d_lines = []\n",
    "for values in pattern:\n",
    "    hkl_key = values[2].keys()\n",
    "    hkl_txt = str(hkl_key)[12:-3].split(\",\")\n",
    "    # print(hkl_txt[0], hkl_txt[1], hkl_txt[-1])\n",
    "    d_lines.append([values[0], values[3], values[1], \\\n",
    "                        int(hkl_txt[0]), int(hkl_txt[1]), int(hkl_txt[-1]) ])\n",
    "\n",
    "diff_lines = np.asarray(d_lines)\n",
    "print(diff_lines)"
   ]
  },
  {
   "cell_type": "markdown",
   "metadata": {},
   "source": [
    "## 5.2. Table output"
   ]
  },
  {
   "cell_type": "code",
   "execution_count": 12,
   "metadata": {},
   "outputs": [
    {
     "data": {
      "text/html": [
       "<div>\n",
       "<table border=\"1\" class=\"dataframe\">\n",
       "  <thead>\n",
       "    <tr style=\"text-align: right;\">\n",
       "      <th></th>\n",
       "      <th>Two Theta</th>\n",
       "      <th>d-spacing</th>\n",
       "      <th>intensity</th>\n",
       "      <th>h</th>\n",
       "      <th>k</th>\n",
       "      <th>l</th>\n",
       "    </tr>\n",
       "  </thead>\n",
       "  <tbody>\n",
       "    <tr>\n",
       "      <th>0</th>\n",
       "      <td>5.509824</td>\n",
       "      <td>3.478712</td>\n",
       "      <td>47.855602</td>\n",
       "      <td>1.0</td>\n",
       "      <td>0.0</td>\n",
       "      <td>2.0</td>\n",
       "    </tr>\n",
       "    <tr>\n",
       "      <th>1</th>\n",
       "      <td>7.518718</td>\n",
       "      <td>2.550097</td>\n",
       "      <td>79.745763</td>\n",
       "      <td>1.0</td>\n",
       "      <td>0.0</td>\n",
       "      <td>4.0</td>\n",
       "    </tr>\n",
       "    <tr>\n",
       "      <th>2</th>\n",
       "      <td>8.062024</td>\n",
       "      <td>2.378500</td>\n",
       "      <td>37.257413</td>\n",
       "      <td>2.0</td>\n",
       "      <td>-1.0</td>\n",
       "      <td>0.0</td>\n",
       "    </tr>\n",
       "    <tr>\n",
       "      <th>3</th>\n",
       "      <td>8.860143</td>\n",
       "      <td>2.164617</td>\n",
       "      <td>0.470187</td>\n",
       "      <td>0.0</td>\n",
       "      <td>0.0</td>\n",
       "      <td>6.0</td>\n",
       "    </tr>\n",
       "    <tr>\n",
       "      <th>4</th>\n",
       "      <td>9.200940</td>\n",
       "      <td>2.084604</td>\n",
       "      <td>88.646843</td>\n",
       "      <td>2.0</td>\n",
       "      <td>-1.0</td>\n",
       "      <td>3.0</td>\n",
       "    </tr>\n",
       "  </tbody>\n",
       "</table>\n",
       "</div>"
      ],
      "text/plain": [
       "   Two Theta  d-spacing  intensity    h    k    l\n",
       "0   5.509824   3.478712  47.855602  1.0  0.0  2.0\n",
       "1   7.518718   2.550097  79.745763  1.0  0.0  4.0\n",
       "2   8.062024   2.378500  37.257413  2.0 -1.0  0.0\n",
       "3   8.860143   2.164617   0.470187  0.0  0.0  6.0\n",
       "4   9.200940   2.084604  88.646843  2.0 -1.0  3.0"
      ]
     },
     "execution_count": 12,
     "metadata": {},
     "output_type": "execute_result"
    }
   ],
   "source": [
    "table = pd.DataFrame(data = diff_lines,    # values\n",
    "    columns=['Two Theta', 'd-spacing', 'intensity', 'h', 'k', 'l'])  # 1st row as the column names\n",
    "table.head()"
   ]
  },
  {
   "cell_type": "markdown",
   "metadata": {},
   "source": [
    "## 5.3. Plot peak positions generated from pymatgen"
   ]
  },
  {
   "cell_type": "code",
   "execution_count": 13,
   "metadata": {},
   "outputs": [
    {
     "data": {
      "image/png": "[encoded data removed]",
      "text/plain": [
       "<matplotlib.figure.Figure at 0x1173b77f0>"
      ]
     },
     "metadata": {},
     "output_type": "display_data"
    }
   ],
   "source": [
    "f = plt.figure(figsize=(10,3))\n",
    "plt.vlines(diff_lines[:,0], 0., diff_lines[:,2], color='b');"
   ]
  },
  {
   "cell_type": "markdown",
   "metadata": {},
   "source": [
    "# 6. Convert to JCPDS"
   ]
  },
  {
   "cell_type": "markdown",
   "metadata": {},
   "source": [
    "Setup an `jcpds` object from a `cif` file"
   ]
  },
  {
   "cell_type": "code",
   "execution_count": 14,
   "metadata": {
    "collapsed": true
   },
   "outputs": [],
   "source": [
    "material_jcpds = ds_jcpds.JCPDS()\n",
    "material_jcpds.set_from_cif(fn_cif, k0, k0p, \\\n",
    "                      thermal_expansion=alpha, two_theta_range=xrange)"
   ]
  },
  {
   "cell_type": "markdown",
   "metadata": {},
   "source": [
    "Calculate diffraction pattern at a pressure."
   ]
  },
  {
   "cell_type": "code",
   "execution_count": 15,
   "metadata": {},
   "outputs": [
    {
     "name": "stdout",
     "output_type": "stream",
     "text": [
      "no symmetry is given\n"
     ]
    }
   ],
   "source": [
    "material_jcpds.cal_dsp(pressure = 100.)\n",
    "dl = material_jcpds.get_DiffractionLines()\n",
    "tth, inten = material_jcpds.get_tthVSint(wl_xray)"
   ]
  },
  {
   "cell_type": "code",
   "execution_count": 16,
   "metadata": {},
   "outputs": [
    {
     "data": {
      "image/png": "[encoded data removed]",
      "text/plain": [
       "<matplotlib.figure.Figure at 0x11974c128>"
      ]
     },
     "metadata": {},
     "output_type": "display_data"
    }
   ],
   "source": [
    "f = plt.figure(figsize=(10,3))\n",
    "plt.vlines(diff_lines[:,0], 0., diff_lines[:,2], color='b')\n",
    "plt.vlines(tth, 0., inten, color = 'r');"
   ]
  },
  {
   "cell_type": "markdown",
   "metadata": {},
   "source": [
    "# 7. Save to a JCPDS file"
   ]
  },
  {
   "cell_type": "code",
   "execution_count": 17,
   "metadata": {},
   "outputs": [],
   "source": [
    "material_jcpds.write_to_file(fn_jcpds, comments=comments_jcpds)"
   ]
  },
  {
   "cell_type": "markdown",
   "metadata": {},
   "source": [
    "# 8. Read back the written JCPDS for test"
   ]
  },
  {
   "cell_type": "code",
   "execution_count": 18,
   "metadata": {
    "collapsed": true
   },
   "outputs": [],
   "source": [
    "material_test = ds_jcpds.JCPDS(filename = fn_jcpds)"
   ]
  },
  {
   "cell_type": "markdown",
   "metadata": {},
   "source": [
    "Calculate a pattern at a pressure"
   ]
  },
  {
   "cell_type": "code",
   "execution_count": 19,
   "metadata": {
    "collapsed": true
   },
   "outputs": [],
   "source": [
    "material_test.cal_dsp(pressure = 10.)\n",
    "material_test.get_DiffractionLines()\n",
    "tth, inten = material_test.get_tthVSint(wl_xray)"
   ]
  },
  {
   "cell_type": "code",
   "execution_count": 20,
   "metadata": {},
   "outputs": [
    {
     "data": {
      "image/png": "[encoded data removed]",
      "text/plain": [
       "<matplotlib.figure.Figure at 0x119981860>"
      ]
     },
     "metadata": {},
     "output_type": "display_data"
    }
   ],
   "source": [
    "f = plt.figure(figsize=(10,3))\n",
    "plt.vlines(diff_lines[:,0], 0., diff_lines[:,2], color='b')\n",
    "plt.vlines(tth, 0., inten, color = 'r');"
   ]
  },
  {
   "cell_type": "code",
   "execution_count": null,
   "metadata": {
    "collapsed": true
   },
   "outputs": [],
   "source": []
  }
 ],
 "metadata": {
  "anaconda-cloud": {},
  "kernelspec": {
   "display_name": "Python [conda env:py35peakpo]",
   "language": "python",
   "name": "conda-env-py35peakpo-py"
  },
  "language_info": {
   "codemirror_mode": {
    "name": "ipython",
    "version": 3
   },
   "file_extension": ".py",
   "mimetype": "text/x-python",
   "name": "python",
   "nbconvert_exporter": "python",
   "pygments_lexer": "ipython3",
   "version": "3.5.3"
  },
  "latex_envs": {
   "LaTeX_envs_menu_present": true,
   "autocomplete": true,
   "bibliofile": "biblio.bib",
   "cite_by": "apalike",
   "current_citInitial": 1,
   "eqLabelWithNumbers": true,
   "eqNumInitial": 0,
   "hotkeys": {
    "equation": "Ctrl-E",
    "itemize": "Ctrl-I"
   },
   "labels_anchors": false,
   "latex_user_defs": false,
   "report_style_numbering": false,
   "user_envs_cfg": false
  },
  "nav_menu": {},
  "toc": {
   "navigate_menu": true,
   "number_sections": true,
   "sideBar": true,
   "threshold": 6,
   "toc_cell": false,
   "toc_section_display": "block",
   "toc_window_display": false
  }
 },
 "nbformat": 4,
 "nbformat_minor": 1
}
