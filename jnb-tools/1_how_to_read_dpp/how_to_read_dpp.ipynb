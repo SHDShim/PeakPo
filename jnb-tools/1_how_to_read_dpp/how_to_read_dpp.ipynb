{
 "cells": [
  {
   "cell_type": "markdown",
   "metadata": {},
   "source": [
    "# How to read dpp from PeakPo"
   ]
  },
  {
   "cell_type": "markdown",
   "metadata": {},
   "source": [
    "- Please check [setup_for_notebooks](../0_setup/setup_for_notebooks.ipynb) file if you have problem using the notebooks in this folder.  \n",
    "- In this notebook, we will learn how to plot XRD patterns using the information saved in `dpp`.  \n",
    "- `dpp` is a project file saved in `PeakPo`.  You may plot, jcpds information and cake as well as many other information."
   ]
  },
  {
   "cell_type": "markdown",
   "metadata": {},
   "source": [
    "This notebook takes advantage of the `PeakPo` modules and other local modules.  They can be found in `../local_modules` folder.  \n",
    "The cell below defined the search path for this local module folder."
   ]
  },
  {
   "cell_type": "code",
   "execution_count": 1,
   "metadata": {},
   "outputs": [],
   "source": [
    "import sys\n",
    "sys.path.append('../../peakpo')"
   ]
  },
  {
   "cell_type": "markdown",
   "metadata": {},
   "source": [
    "## Check the versio of pyFAI in your conda environment"
   ]
  },
  {
   "cell_type": "code",
   "execution_count": 2,
   "metadata": {},
   "outputs": [
    {
     "name": "stderr",
     "output_type": "stream",
     "text": [
      "WARNING:pyFAI.opencl.common:Unable to import pyOpenCl. Please install it from: http://pypi.python.org/pypi/pyopencl\n"
     ]
    },
    {
     "data": {
      "text/plain": [
       "'0.14.2'"
      ]
     },
     "execution_count": 2,
     "metadata": {},
     "output_type": "execute_result"
    }
   ],
   "source": [
    "import pyFAI\n",
    "pyFAI.version"
   ]
  },
  {
   "cell_type": "markdown",
   "metadata": {},
   "source": [
    "Note that the example data files I provided are made with `pyFAI` version `0.14.2`.  If you see version higher than `0.15` here, you will get error when you read the example `dpp` file.  In that case, you either follow the instruction in [setup_for_notebooks.ipynb](./setup_for_notebooks.ipynb) or you may use your own dpp for this note book."
   ]
  },
  {
   "cell_type": "markdown",
   "metadata": {},
   "source": [
    "## Read dpp"
   ]
  },
  {
   "cell_type": "code",
   "execution_count": 3,
   "metadata": {},
   "outputs": [],
   "source": [
    "import dill\n",
    "import numpy as np"
   ]
  },
  {
   "cell_type": "markdown",
   "metadata": {},
   "source": [
    "### Change the following two cells for your own dpp file"
   ]
  },
  {
   "cell_type": "markdown",
   "metadata": {},
   "source": [
    "Data files should be in the `../data` folder.  You need: `dpp`, `chi`, `tif`, and `poni` files."
   ]
  },
  {
   "cell_type": "code",
   "execution_count": 4,
   "metadata": {},
   "outputs": [
    {
     "name": "stdout",
     "output_type": "stream",
     "text": [
      "../data/hSiO2_404_009.dpp\n"
     ]
    }
   ],
   "source": [
    "%ls ../data/*.dpp"
   ]
  },
  {
   "cell_type": "code",
   "execution_count": 5,
   "metadata": {},
   "outputs": [],
   "source": [
    "filen_dpp = '../data/hSiO2_404_009.dpp'"
   ]
  },
  {
   "cell_type": "code",
   "execution_count": 6,
   "metadata": {},
   "outputs": [],
   "source": [
    "with open(filen_dpp, 'rb') as f:\n",
    "    model_dpp = dill.load(f)"
   ]
  },
  {
   "cell_type": "markdown",
   "metadata": {},
   "source": [
    "The cells below show how to look into the data structure of the `model_dpp` and get values from it."
   ]
  },
  {
   "cell_type": "code",
   "execution_count": 7,
   "metadata": {},
   "outputs": [
    {
     "data": {
      "text/plain": [
       "{'base_ptn': <ds_powdiff.DiffractionPattern.PatternPeakPo at 0x11bd2cda0>,\n",
       " 'waterfall_ptn': [],\n",
       " 'jcpds_lst': [<ds_jcpds.jcpds.JCPDSplt at 0x12918fba8>,\n",
       "  <ds_jcpds.jcpds.JCPDSplt at 0x129199e48>,\n",
       "  <ds_jcpds.jcpds.JCPDSplt at 0x1291a2550>,\n",
       "  <ds_jcpds.jcpds.JCPDSplt at 0x1291a2a90>,\n",
       "  <ds_jcpds.jcpds.JCPDSplt at 0x1291a2d68>,\n",
       "  <ds_jcpds.jcpds.JCPDSplt at 0x1291abcc0>,\n",
       "  <ds_jcpds.jcpds.JCPDSplt at 0x1291b6828>,\n",
       "  <ds_jcpds.jcpds.JCPDSplt at 0x1291df0b8>],\n",
       " 'ucfit_lst': [],\n",
       " 'diff_img': <ds_cake.DiffractionImage.DiffImg at 0x1291dfc18>,\n",
       " 'poni': '/Users/DanShim/Dropbox (ASU)/Desktop/PMatRes/github-dev/XRD-peakpo/data/hStv/LaB6_37keV_p49_center.poni',\n",
       " 'session': <ds_jcpds.jcpds.Session at 0x1291ec9e8>,\n",
       " 'jcpds_path': '/Users/DanShim/Python/jcpds',\n",
       " 'chi_path': '/Users/DanShim/Dropbox (ASU)/Desktop/PMatRes/github-dev/XRD-peakpo/data/hStv',\n",
       " 'current_section': None,\n",
       " 'section_lst': [],\n",
       " 'saved_pressure': 39.6,\n",
       " 'saved_temperature': 300.0}"
      ]
     },
     "execution_count": 7,
     "metadata": {},
     "output_type": "execute_result"
    }
   ],
   "source": [
    "model_dpp.__dict__"
   ]
  },
  {
   "cell_type": "markdown",
   "metadata": {},
   "source": [
    "## Setup a new PeakPo model and assign info from dpp"
   ]
  },
  {
   "cell_type": "code",
   "execution_count": 8,
   "metadata": {},
   "outputs": [],
   "source": [
    "from model import PeakPoModel\n",
    "model = PeakPoModel()"
   ]
  },
  {
   "cell_type": "markdown",
   "metadata": {},
   "source": [
    "Make sure to reset the chi folder location using the `new_chi_path` option."
   ]
  },
  {
   "cell_type": "code",
   "execution_count": 9,
   "metadata": {},
   "outputs": [],
   "source": [
    "model.set_from(model_dpp, new_chi_path='../data')"
   ]
  },
  {
   "cell_type": "markdown",
   "metadata": {},
   "source": [
    "## Some basic model methods"
   ]
  },
  {
   "cell_type": "code",
   "execution_count": 10,
   "metadata": {},
   "outputs": [
    {
     "data": {
      "text/plain": [
       "\u001b[0;31mType:\u001b[0m        PeakPoModel\n",
       "\u001b[0;31mString form:\u001b[0m <model.model.PeakPoModel object at 0x1291f6048>\n",
       "\u001b[0;31mFile:\u001b[0m        ~/Dropbox (ASU)/Python/PeakPo-v7/peakpo/model/model.py\n",
       "\u001b[0;31mDocstring:\u001b[0m  \n",
       "session is only for reading/writing/referencing.\n",
       "components of the models are not part of session.\n",
       "session is a reference object\n"
      ]
     },
     "metadata": {},
     "output_type": "display_data"
    }
   ],
   "source": [
    "?model"
   ]
  },
  {
   "cell_type": "code",
   "execution_count": 11,
   "metadata": {},
   "outputs": [
    {
     "data": {
      "text/plain": [
       "39.6"
      ]
     },
     "execution_count": 11,
     "metadata": {},
     "output_type": "execute_result"
    }
   ],
   "source": [
    "model.get_saved_pressure()"
   ]
  },
  {
   "cell_type": "code",
   "execution_count": 12,
   "metadata": {},
   "outputs": [
    {
     "data": {
      "text/plain": [
       "300.0"
      ]
     },
     "execution_count": 12,
     "metadata": {},
     "output_type": "execute_result"
    }
   ],
   "source": [
    "model.get_saved_temperature()"
   ]
  },
  {
   "cell_type": "code",
   "execution_count": 13,
   "metadata": {},
   "outputs": [
    {
     "name": "stdout",
     "output_type": "stream",
     "text": [
      "../data/hSiO2_404_009.chi\n"
     ]
    }
   ],
   "source": [
    "print(model.base_ptn.fname)"
   ]
  },
  {
   "cell_type": "code",
   "execution_count": 14,
   "metadata": {},
   "outputs": [
    {
     "name": "stdout",
     "output_type": "stream",
     "text": [
      "0.3344\n"
     ]
    }
   ],
   "source": [
    "print(model.base_ptn.wavelength)"
   ]
  },
  {
   "cell_type": "code",
   "execution_count": 15,
   "metadata": {},
   "outputs": [
    {
     "name": "stdout",
     "output_type": "stream",
     "text": [
      "[]\n"
     ]
    }
   ],
   "source": [
    "print(model.waterfall_ptn)"
   ]
  },
  {
   "cell_type": "code",
   "execution_count": 16,
   "metadata": {},
   "outputs": [
    {
     "name": "stdout",
     "output_type": "stream",
     "text": [
      "SiO2-hhstv\n",
      "ar-NoTh\n",
      "au\n",
      "ne-NoTh\n",
      "Dicvol_404_018Mono\n",
      "Dicvol_404_003Mono\n",
      "SiO2-NiAsBis\n",
      "sio2-cacl2\n"
     ]
    }
   ],
   "source": [
    "for phase in model.jcpds_lst:\n",
    "    print(phase.name)"
   ]
  },
  {
   "cell_type": "code",
   "execution_count": 17,
   "metadata": {},
   "outputs": [
    {
     "name": "stdout",
     "output_type": "stream",
     "text": [
      "SiO2-hhstv\n",
      "au\n",
      "ne-NoTh\n",
      "sio2-cacl2\n"
     ]
    }
   ],
   "source": [
    "for phase in model.jcpds_lst:\n",
    "    if phase.display:\n",
    "        print(phase.name)"
   ]
  },
  {
   "cell_type": "code",
   "execution_count": 18,
   "metadata": {},
   "outputs": [
    {
     "name": "stdout",
     "output_type": "stream",
     "text": [
      "../data/LaB6_37keV_p49_center.poni\n"
     ]
    }
   ],
   "source": [
    "print(model.poni)"
   ]
  },
  {
   "cell_type": "code",
   "execution_count": null,
   "metadata": {},
   "outputs": [],
   "source": []
  }
 ],
 "metadata": {
  "kernelspec": {
   "display_name": "pkpo2018",
   "language": "python",
   "name": "pkpo2018"
  },
  "language_info": {
   "codemirror_mode": {
    "name": "ipython",
    "version": 3
   },
   "file_extension": ".py",
   "mimetype": "text/x-python",
   "name": "python",
   "nbconvert_exporter": "python",
   "pygments_lexer": "ipython3",
   "version": "3.6.6"
  }
 },
 "nbformat": 4,
 "nbformat_minor": 4
}
