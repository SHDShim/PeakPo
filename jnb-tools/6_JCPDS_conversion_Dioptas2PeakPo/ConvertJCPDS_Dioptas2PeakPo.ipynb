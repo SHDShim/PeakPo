{
 "cells": [
  {
   "cell_type": "markdown",
   "metadata": {},
   "source": [
    "# Convert JCPDS from Dioptas to PeakPo"
   ]
  },
  {
   "cell_type": "markdown",
   "metadata": {},
   "source": [
    "## Input parameters\n",
    "\n",
    "dioptas `jcpds` should exist in the `./jcpds-dioptas` folder.  \n",
    "peakpo `jcpds` will be created in the `./jcpds-peakpo` folder."
   ]
  },
  {
   "cell_type": "code",
   "execution_count": 1,
   "metadata": {},
   "outputs": [
    {
     "name": "stdout",
     "output_type": "stream",
     "text": [
      "\u001b[1m\u001b[32mFe5Si3.jcpds\u001b[m\u001b[m*               \u001b[1m\u001b[32mfe2sio4-rin_approxAK.jcpds\u001b[m\u001b[m*\n",
      "\u001b[1m\u001b[32mFeSi2.jcpds\u001b[m\u001b[m*                \u001b[1m\u001b[32mfesi.jcpds\u001b[m\u001b[m*\n",
      "\u001b[1m\u001b[32mFeSi_B2_guess_Zack.jcpds\u001b[m\u001b[m*   \u001b[1m\u001b[32mfesi_new.jcpds\u001b[m\u001b[m*\n",
      "\u001b[1m\u001b[32mFeSi_Wever.jcpds\u001b[m\u001b[m*\n"
     ]
    }
   ],
   "source": [
    "%ls ./jcpds-dioptas"
   ]
  },
  {
   "cell_type": "code",
   "execution_count": 33,
   "metadata": {},
   "outputs": [],
   "source": [
    "jcpds_name = 'fesi'"
   ]
  },
  {
   "cell_type": "code",
   "execution_count": 34,
   "metadata": {},
   "outputs": [],
   "source": [
    "fn_dioptas = \"./jcpds-dioptas/\"+jcpds_name+'.jcpds'\n",
    "fn_peakpo = './jcpds-peakpo/'+jcpds_name+'-pkpo.jcpds'"
   ]
  },
  {
   "cell_type": "markdown",
   "metadata": {},
   "source": [
    "## Content of the dioptas JCPDS file"
   ]
  },
  {
   "cell_type": "code",
   "execution_count": 35,
   "metadata": {},
   "outputs": [
    {
     "name": "stdout",
     "output_type": "stream",
     "text": [
      "FeSi (JCPDS 38-1397)\n",
      "1 4.48796 0.0 0.0 1.0\n",
      "d (A)       I/I0    h   k   l\n",
      "3.174        22     1   1   0\n",
      "2.591        13     1   1   1\n",
      "2.0076      100     2   1   0\n",
      "1.823        48     2   1   1\n",
      "1.199        20     3   2   1\n",
      "0.9794        8     4   2   1\n",
      "0.8334        9     5   2   0\n"
     ]
    }
   ],
   "source": [
    "!head {fn_dioptas}"
   ]
  },
  {
   "cell_type": "code",
   "execution_count": 36,
   "metadata": {},
   "outputs": [],
   "source": [
    "%matplotlib inline"
   ]
  },
  {
   "cell_type": "code",
   "execution_count": 37,
   "metadata": {},
   "outputs": [],
   "source": [
    "import numpy as np\n",
    "import pandas as pd\n",
    "import matplotlib.pyplot as plt"
   ]
  },
  {
   "cell_type": "markdown",
   "metadata": {},
   "source": [
    "`ds_jcpds` is written by Dan Shim for making a jcpds file."
   ]
  },
  {
   "cell_type": "code",
   "execution_count": 38,
   "metadata": {},
   "outputs": [],
   "source": [
    "import sys\n",
    "sys.path.append('../../peakpo/')\n",
    "sys.path.append('../local_modules/')\n",
    "import ds_jcpds\n",
    "import quick_plots as quick"
   ]
  },
  {
   "cell_type": "markdown",
   "metadata": {},
   "source": [
    "import `jcpds-dioptas`"
   ]
  },
  {
   "cell_type": "code",
   "execution_count": 39,
   "metadata": {},
   "outputs": [],
   "source": [
    "import jcpds_dioptas as jcpds_dioptas"
   ]
  },
  {
   "cell_type": "markdown",
   "metadata": {},
   "source": [
    "## The function below test if the jcpds style is dioptas"
   ]
  },
  {
   "cell_type": "code",
   "execution_count": 40,
   "metadata": {},
   "outputs": [],
   "source": [
    "def check_dioptas_jcpds(fn):\n",
    "    with open(fn) as fp:\n",
    "        line = fp.readline()\n",
    "        if \"VERSION:\" in line:\n",
    "            return True\n",
    "        else:\n",
    "            return False"
   ]
  },
  {
   "cell_type": "markdown",
   "metadata": {},
   "source": [
    "## Read JCPDS-dioptas"
   ]
  },
  {
   "cell_type": "markdown",
   "metadata": {},
   "source": [
    "The `cif` file below was downloaded from American mineralogist crystal structure database."
   ]
  },
  {
   "cell_type": "code",
   "execution_count": 41,
   "metadata": {},
   "outputs": [
    {
     "data": {
      "text/plain": [
       "False"
      ]
     },
     "execution_count": 41,
     "metadata": {},
     "output_type": "execute_result"
    }
   ],
   "source": [
    "check_dioptas_jcpds(fn_dioptas)"
   ]
  },
  {
   "cell_type": "markdown",
   "metadata": {},
   "source": [
    "## Read dioptas style JCPDS"
   ]
  },
  {
   "cell_type": "code",
   "execution_count": 42,
   "metadata": {},
   "outputs": [],
   "source": [
    "jcpds_dioptas = jcpds_dioptas.jcpds()"
   ]
  },
  {
   "cell_type": "code",
   "execution_count": 43,
   "metadata": {},
   "outputs": [],
   "source": [
    "jcpds_dioptas.load_file(fn_dioptas)"
   ]
  },
  {
   "cell_type": "markdown",
   "metadata": {},
   "source": [
    "## Read dioptas JCPDS and attach to Peakpo JCPDS object"
   ]
  },
  {
   "cell_type": "code",
   "execution_count": 44,
   "metadata": {},
   "outputs": [],
   "source": [
    "jcpds_peakpo = ds_jcpds.JCPDS()\n",
    "\n",
    "jcpds_peakpo.version = 4\n",
    "jcpds_peakpo.symmetry = jcpds_dioptas.params['symmetry'].lower()\n",
    "jcpds_peakpo.k0 = jcpds_dioptas.params['k0']\n",
    "jcpds_peakpo.k0p = jcpds_dioptas.params['k0p']\n",
    "jcpds_peakpo.thermal_expansion = jcpds_dioptas.params['alpha_t0']\n",
    "jcpds_peakpo.a0 = jcpds_dioptas.params['a0']\n",
    "jcpds_peakpo.b0 = jcpds_dioptas.params['b0']\n",
    "jcpds_peakpo.c0 = jcpds_dioptas.params['c0']\n",
    "jcpds_peakpo.alpha0 = jcpds_dioptas.params['alpha0']\n",
    "jcpds_peakpo.beta0 = jcpds_dioptas.params['beta0']\n",
    "jcpds_peakpo.gamma0 = jcpds_dioptas.params['gamma0']\n",
    "jcpds_peakpo.v0 = jcpds_dioptas.params['v0']\n",
    "\n",
    "diff_lines = []\n",
    "\n",
    "for line in jcpds_dioptas.reflections:\n",
    "    DiffLine = ds_jcpds.DiffractionLine()\n",
    "    DiffLine.dsp0 = line.d0\n",
    "    DiffLine.intensity = line.intensity\n",
    "    DiffLine.h = line.h\n",
    "    DiffLine.k = line.k\n",
    "    DiffLine.l = line.l\n",
    "    diff_lines.append(DiffLine)\n",
    "\n",
    "jcpds_peakpo.DiffLines = diff_lines"
   ]
  },
  {
   "cell_type": "markdown",
   "metadata": {},
   "source": [
    "## Save to a PeakPo style JCPDS file"
   ]
  },
  {
   "cell_type": "code",
   "execution_count": 45,
   "metadata": {},
   "outputs": [],
   "source": [
    "jcpds_peakpo.write_to_file(fn_peakpo, \n",
    "                           comments=jcpds_dioptas.params['comments'][0])"
   ]
  },
  {
   "cell_type": "code",
   "execution_count": 46,
   "metadata": {},
   "outputs": [
    {
     "name": "stdout",
     "output_type": "stream",
     "text": [
      "4\n",
      "FeSi (JCPDS 38-1397)\n",
      "\n",
      "1 0.00 0.00 \n",
      "4.48796 \n",
      "0.0000e+00 \n",
      "d-spacing    I/I0     h   k   l \n",
      "3.173467 22.00 1.0 1.0 0.0 \n",
      "2.591125 13.00 1.0 1.0 1.0 \n",
      "2.007077 100.00 2.0 1.0 0.0 \n"
     ]
    }
   ],
   "source": [
    "!head {fn_peakpo}"
   ]
  },
  {
   "cell_type": "code",
   "execution_count": null,
   "metadata": {},
   "outputs": [],
   "source": []
  },
  {
   "cell_type": "code",
   "execution_count": null,
   "metadata": {},
   "outputs": [],
   "source": []
  }
 ],
 "metadata": {
  "anaconda-cloud": {},
  "kernelspec": {
   "display_name": "pkpo2018",
   "language": "python",
   "name": "pkpo2018"
  },
  "language_info": {
   "codemirror_mode": {
    "name": "ipython",
    "version": 3
   },
   "file_extension": ".py",
   "mimetype": "text/x-python",
   "name": "python",
   "nbconvert_exporter": "python",
   "pygments_lexer": "ipython3",
   "version": "3.6.6"
  },
  "latex_envs": {
   "LaTeX_envs_menu_present": true,
   "autocomplete": true,
   "bibliofile": "biblio.bib",
   "cite_by": "apalike",
   "current_citInitial": 1,
   "eqLabelWithNumbers": true,
   "eqNumInitial": 0,
   "hotkeys": {
    "equation": "Ctrl-E",
    "itemize": "Ctrl-I"
   },
   "labels_anchors": false,
   "latex_user_defs": false,
   "report_style_numbering": false,
   "user_envs_cfg": false
  },
  "nav_menu": {},
  "toc": {
   "navigate_menu": true,
   "number_sections": true,
   "sideBar": true,
   "threshold": 6,
   "toc_cell": false,
   "toc_section_display": "block",
   "toc_window_display": false
  }
 },
 "nbformat": 4,
 "nbformat_minor": 4
}
