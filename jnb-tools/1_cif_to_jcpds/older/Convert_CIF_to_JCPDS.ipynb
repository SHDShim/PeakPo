{
 "cells": [
  {
   "cell_type": "markdown",
   "metadata": {},
   "source": [
    "# Convert CIF to JCPDS"
   ]
  },
  {
   "cell_type": "markdown",
   "metadata": {},
   "source": [
    "* This notebook shows how to calculate a theoretical diffraction pattern  using `pymatgen`.  \n",
    "* This also aims to show how to read `CIF` files, convert them to `JCPDS`.  \n",
    "* Some `jcpds` files can be downloaded from: https://github.com/SHDShim/JCPDS"
   ]
  },
  {
   "cell_type": "code",
   "execution_count": 1,
   "metadata": {},
   "outputs": [],
   "source": [
    "%matplotlib inline"
   ]
  },
  {
   "cell_type": "markdown",
   "metadata": {},
   "source": [
    "## What is CIF file\n",
    "\n",
    "https://en.wikipedia.org/wiki/Crystallographic_Information_File\n",
    "\n"
   ]
  },
  {
   "cell_type": "code",
   "execution_count": 2,
   "metadata": {},
   "outputs": [
    {
     "name": "stdout",
     "output_type": "stream",
     "text": [
      "./cif/MgSiO3_bm.cif\n"
     ]
    }
   ],
   "source": [
    "%ls ./cif/*.cif"
   ]
  },
  {
   "cell_type": "code",
   "execution_count": 3,
   "metadata": {},
   "outputs": [
    {
     "name": "stdout",
     "output_type": "stream",
     "text": [
      "data_global\n",
      "_chemical_name_mineral 'Bridgmanite'\n",
      "loop_\n",
      "_publ_author_name\n",
      "'Horiuchi H'\n",
      "'Ito E'\n",
      "'Weidner D J'\n",
      "_journal_name_full 'American Mineralogist'\n",
      "_journal_volume 72 \n",
      "_journal_year 1987\n",
      "_journal_page_first 357\n",
      "_journal_page_last 360\n",
      "_publ_section_title\n",
      ";\n",
      " Perovskite-type MgSiO3: Single-crystal X-ray diffraction study\n",
      ";\n",
      "_database_code_amcsd 0001071\n",
      "_chemical_compound_source 'Synthetic'\n",
      "_chemical_formula_sum 'Mg Si O3'\n",
      "_cell_length_a 4.7754\n",
      "_cell_length_b 4.9292\n",
      "_cell_length_c 6.8969\n",
      "_cell_angle_alpha 90\n",
      "_cell_angle_beta 90\n",
      "_cell_angle_gamma 90\n",
      "_cell_volume 162.345\n",
      "_exptl_crystal_density_diffrn      4.107\n",
      "_symmetry_space_group_name_H-M 'P b n m'\n",
      "loop_\n",
      "_space_group_symop_operation_xyz\n",
      "  'x,y,z'\n",
      "  'x,y,1/2-z'\n",
      "  '-x,-y,1/2+z'\n",
      "  '1/2+x,1/2-y,1/2+z'\n",
      "  '1/2-x,1/2+y,1/2-z'\n",
      "  '1/2-x,1/2+y,z'\n",
      "  '1/2+x,1/2-y,-z'\n",
      "  '-x,-y,-z'\n",
      "loop_\n",
      "_atom_site_label\n",
      "_atom_site_fract_x\n",
      "_atom_site_fract_y\n",
      "_atom_site_fract_z\n",
      "Mg   0.51410   0.55600   0.25000\n",
      "Si   0.50000   0.00000   0.50000\n",
      "O1   0.10280   0.46600   0.25000\n",
      "O2   0.19610   0.20140   0.55310\n",
      "loop_\n",
      "_atom_site_aniso_label\n",
      "_atom_site_aniso_U_11\n",
      "_atom_site_aniso_U_22\n",
      "_atom_site_aniso_U_33\n",
      "_atom_site_aniso_U_12\n",
      "_atom_site_aniso_U_13\n",
      "_atom_site_aniso_U_23\n",
      "Mg 0.00555 0.00565 0.00619 0.00052 0.00000 0.00000\n",
      "Si 0.00342 0.00367 0.00241 -0.00005 0.00003 -0.00016\n",
      "O1 0.00434 0.00581 0.00217 0.00013 0.00000 0.00000\n",
      "O2 0.00430 0.00449 0.00431 0.00083 0.00048 0.00083\n",
      "\n"
     ]
    }
   ],
   "source": [
    "%cat ./cif/MgSiO3_bm.cif"
   ]
  },
  {
   "cell_type": "markdown",
   "metadata": {},
   "source": [
    "## What is a JCPDS file\n",
    "\n",
    "What is lacking in cif?"
   ]
  },
  {
   "cell_type": "code",
   "execution_count": 4,
   "metadata": {},
   "outputs": [],
   "source": [
    "import numpy as np\n",
    "import pandas as pd\n",
    "import matplotlib.pyplot as plt"
   ]
  },
  {
   "cell_type": "markdown",
   "metadata": {},
   "source": [
    "## What is `pymatgen`?\n",
    "\n",
    "https://pymatgen.org"
   ]
  },
  {
   "cell_type": "code",
   "execution_count": 5,
   "metadata": {},
   "outputs": [],
   "source": [
    "import pymatgen as mg\n",
    "from pymatgen import Lattice, Structure\n",
    "from pymatgen.analysis.diffraction.xrd import XRDCalculator\n",
    "from pymatgen.symmetry.analyzer import SpacegroupAnalyzer"
   ]
  },
  {
   "cell_type": "code",
   "execution_count": 6,
   "metadata": {},
   "outputs": [
    {
     "data": {
      "text/plain": [
       "'2019.7.30'"
      ]
     },
     "execution_count": 6,
     "metadata": {},
     "output_type": "execute_result"
    }
   ],
   "source": [
    "mg.__version__"
   ]
  },
  {
   "cell_type": "markdown",
   "metadata": {},
   "source": [
    "This works with `pymatgen` version `2019.4.11` or later."
   ]
  },
  {
   "cell_type": "markdown",
   "metadata": {},
   "source": [
    "`ds_jcpds` is written by Dan Shim for making a jcpds file."
   ]
  },
  {
   "cell_type": "code",
   "execution_count": 7,
   "metadata": {},
   "outputs": [],
   "source": [
    "import sys\n",
    "sys.path.append('../../peakpo/')\n",
    "sys.path.append('../local_modules/')\n",
    "import ds_jcpds\n",
    "import quick_plots as quick"
   ]
  },
  {
   "cell_type": "markdown",
   "metadata": {},
   "source": [
    "## Input parameters"
   ]
  },
  {
   "cell_type": "code",
   "execution_count": 8,
   "metadata": {},
   "outputs": [
    {
     "name": "stdout",
     "output_type": "stream",
     "text": [
      "MgSiO3_bm.cif\n"
     ]
    }
   ],
   "source": [
    "%ls ./cif/"
   ]
  },
  {
   "cell_type": "code",
   "execution_count": 9,
   "metadata": {},
   "outputs": [],
   "source": [
    "fn_cif = \"./cif/MgSiO3_bm.cif\"\n",
    "fn_jcpds = './jcpds/MgSiO3-bm.jcpds'\n",
    "comments_jcpds = \"Bridgmanite\""
   ]
  },
  {
   "cell_type": "markdown",
   "metadata": {},
   "source": [
    "Parameters for the equation of state of bridgmanite."
   ]
  },
  {
   "cell_type": "code",
   "execution_count": 10,
   "metadata": {},
   "outputs": [],
   "source": [
    "k0 = 260. # 200.\n",
    "k0p = 4.00 # 4.\n",
    "alpha = 3.16e-5 # 1.e-5"
   ]
  },
  {
   "cell_type": "code",
   "execution_count": 11,
   "metadata": {},
   "outputs": [],
   "source": [
    "wl_xray = 0.3344\n",
    "xrange = (0,40)"
   ]
  },
  {
   "cell_type": "markdown",
   "metadata": {},
   "source": [
    "## Read CIF"
   ]
  },
  {
   "cell_type": "markdown",
   "metadata": {},
   "source": [
    "The `cif` file below was downloaded from American mineralogist crystal structure database."
   ]
  },
  {
   "cell_type": "code",
   "execution_count": 12,
   "metadata": {
    "run_control": {
     "marked": true
    }
   },
   "outputs": [],
   "source": [
    "material = mg.Structure.from_file(fn_cif)"
   ]
  },
  {
   "cell_type": "markdown",
   "metadata": {},
   "source": [
    "## Get some parameters in CIF"
   ]
  },
  {
   "cell_type": "code",
   "execution_count": 13,
   "metadata": {},
   "outputs": [
    {
     "name": "stdout",
     "output_type": "stream",
     "text": [
      "Unit-cell volume =  162.345450996792\n",
      "Density =  4.107275060713392 g cm^-3\n",
      "Chemical formula =  Mg4 Si4 O12\n"
     ]
    }
   ],
   "source": [
    "print('Unit-cell volume = ', material.volume)\n",
    "print('Density = ', material.density)\n",
    "print('Chemical formula = ', material.formula)"
   ]
  },
  {
   "cell_type": "code",
   "execution_count": 14,
   "metadata": {},
   "outputs": [
    {
     "name": "stdout",
     "output_type": "stream",
     "text": [
      "Lattice parameters =  4.7754 4.9292 6.8969 90.0 90.0 90.0\n",
      "orthorhombic\n"
     ]
    }
   ],
   "source": [
    "lattice = material.lattice\n",
    "print('Lattice parameters = ', lattice.a, lattice.b, lattice.c, \\\n",
    "      lattice.alpha, lattice.beta, lattice.gamma)\n",
    "crystal_system = SpacegroupAnalyzer(material).get_crystal_system()\n",
    "print(crystal_system)"
   ]
  },
  {
   "cell_type": "markdown",
   "metadata": {},
   "source": [
    "## Get diffraction pattern"
   ]
  },
  {
   "cell_type": "code",
   "execution_count": 15,
   "metadata": {},
   "outputs": [],
   "source": [
    "c = XRDCalculator(wavelength=wl_xray)"
   ]
  },
  {
   "cell_type": "code",
   "execution_count": 16,
   "metadata": {},
   "outputs": [],
   "source": [
    "pattern = c.get_pattern(material, two_theta_range = xrange)"
   ]
  },
  {
   "cell_type": "markdown",
   "metadata": {},
   "source": [
    "## Extract twotheta, d-sp, int, hkl"
   ]
  },
  {
   "cell_type": "code",
   "execution_count": 17,
   "metadata": {},
   "outputs": [
    {
     "data": {
      "text/plain": [
       "(1, 0, 1)"
      ]
     },
     "execution_count": 17,
     "metadata": {},
     "output_type": "execute_result"
    }
   ],
   "source": [
    "pattern.hkls[0][0]['hkl']"
   ]
  },
  {
   "cell_type": "code",
   "execution_count": 18,
   "metadata": {},
   "outputs": [
    {
     "data": {
      "text/plain": [
       "722"
      ]
     },
     "execution_count": 18,
     "metadata": {},
     "output_type": "execute_result"
    }
   ],
   "source": [
    "pattern.hkls.__len__()"
   ]
  },
  {
   "cell_type": "code",
   "execution_count": 19,
   "metadata": {},
   "outputs": [],
   "source": [
    "h = []; k = []; l = []\n",
    "for i in range(pattern.hkls.__len__()):\n",
    "    h.append(pattern.hkls[i][0]['hkl'][0])\n",
    "    k.append(pattern.hkls[i][0]['hkl'][1])\n",
    "    l.append(pattern.hkls[i][0]['hkl'][2])"
   ]
  },
  {
   "cell_type": "code",
   "execution_count": 20,
   "metadata": {},
   "outputs": [
    {
     "name": "stdout",
     "output_type": "stream",
     "text": [
      "[5.55821414 3.44845    8.23481259 0.         0.         2.        ]\n"
     ]
    }
   ],
   "source": [
    "d_lines = [pattern.x, pattern.d_hkls, pattern.y, h, k, l ]\n",
    "diff_lines = np.transpose(np.asarray(d_lines))\n",
    "print(diff_lines[1,:])"
   ]
  },
  {
   "cell_type": "markdown",
   "metadata": {},
   "source": [
    "## Table output"
   ]
  },
  {
   "cell_type": "markdown",
   "metadata": {},
   "source": [
    "We can make a nice looking table using the `pandas` package.  `pandas` is more than looking-good table producer.  It is a powerful statistics package popular in data science."
   ]
  },
  {
   "cell_type": "code",
   "execution_count": 21,
   "metadata": {},
   "outputs": [
    {
     "data": {
      "text/html": [
       "<div>\n",
       "<style scoped>\n",
       "    .dataframe tbody tr th:only-of-type {\n",
       "        vertical-align: middle;\n",
       "    }\n",
       "\n",
       "    .dataframe tbody tr th {\n",
       "        vertical-align: top;\n",
       "    }\n",
       "\n",
       "    .dataframe thead th {\n",
       "        text-align: right;\n",
       "    }\n",
       "</style>\n",
       "<table border=\"1\" class=\"dataframe\">\n",
       "  <thead>\n",
       "    <tr style=\"text-align: right;\">\n",
       "      <th></th>\n",
       "      <th>Two Theta</th>\n",
       "      <th>d-spacing</th>\n",
       "      <th>intensity</th>\n",
       "      <th>h</th>\n",
       "      <th>k</th>\n",
       "      <th>l</th>\n",
       "    </tr>\n",
       "  </thead>\n",
       "  <tbody>\n",
       "    <tr>\n",
       "      <th>0</th>\n",
       "      <td>4.881525</td>\n",
       "      <td>3.926131</td>\n",
       "      <td>0.815361</td>\n",
       "      <td>1.0</td>\n",
       "      <td>0.0</td>\n",
       "      <td>1.0</td>\n",
       "    </tr>\n",
       "    <tr>\n",
       "      <th>1</th>\n",
       "      <td>5.558214</td>\n",
       "      <td>3.448450</td>\n",
       "      <td>8.234813</td>\n",
       "      <td>0.0</td>\n",
       "      <td>0.0</td>\n",
       "      <td>2.0</td>\n",
       "    </tr>\n",
       "    <tr>\n",
       "      <th>2</th>\n",
       "      <td>5.588459</td>\n",
       "      <td>3.429802</td>\n",
       "      <td>20.916571</td>\n",
       "      <td>1.0</td>\n",
       "      <td>1.0</td>\n",
       "      <td>0.0</td>\n",
       "    </tr>\n",
       "    <tr>\n",
       "      <th>3</th>\n",
       "      <td>6.241956</td>\n",
       "      <td>3.071022</td>\n",
       "      <td>8.938528</td>\n",
       "      <td>1.0</td>\n",
       "      <td>1.0</td>\n",
       "      <td>1.0</td>\n",
       "    </tr>\n",
       "    <tr>\n",
       "      <th>4</th>\n",
       "      <td>7.779938</td>\n",
       "      <td>2.464600</td>\n",
       "      <td>24.497625</td>\n",
       "      <td>0.0</td>\n",
       "      <td>2.0</td>\n",
       "      <td>0.0</td>\n",
       "    </tr>\n",
       "  </tbody>\n",
       "</table>\n",
       "</div>"
      ],
      "text/plain": [
       "   Two Theta  d-spacing  intensity    h    k    l\n",
       "0   4.881525   3.926131   0.815361  1.0  0.0  1.0\n",
       "1   5.558214   3.448450   8.234813  0.0  0.0  2.0\n",
       "2   5.588459   3.429802  20.916571  1.0  1.0  0.0\n",
       "3   6.241956   3.071022   8.938528  1.0  1.0  1.0\n",
       "4   7.779938   2.464600  24.497625  0.0  2.0  0.0"
      ]
     },
     "execution_count": 21,
     "metadata": {},
     "output_type": "execute_result"
    }
   ],
   "source": [
    "table = pd.DataFrame(data = diff_lines,    # values\n",
    "    columns=['Two Theta', 'd-spacing', 'intensity', 'h', 'k', 'l'])  # 1st row as the column names\n",
    "table.head()"
   ]
  },
  {
   "cell_type": "markdown",
   "metadata": {},
   "source": [
    "## Plot peak positions generated from pymatgen"
   ]
  },
  {
   "cell_type": "code",
   "execution_count": 22,
   "metadata": {},
   "outputs": [
    {
     "data": {
      "image/png": "[encoded data removed]",
      "text/plain": [
       "<Figure size 576x216 with 1 Axes>"
      ]
     },
     "metadata": {
      "image/png": {
       "height": 190,
       "width": 480
      },
      "needs_background": "light"
     },
     "output_type": "display_data"
    }
   ],
   "source": [
    "f, ax = plt.subplots(figsize=(8,3))\n",
    "ax.vlines(diff_lines[:,0], 0., diff_lines[:,2], color='b');"
   ]
  },
  {
   "cell_type": "markdown",
   "metadata": {},
   "source": [
    "## Convert to JCPDS"
   ]
  },
  {
   "cell_type": "markdown",
   "metadata": {},
   "source": [
    "Setup an `jcpds` object from a `cif` file"
   ]
  },
  {
   "cell_type": "code",
   "execution_count": 23,
   "metadata": {},
   "outputs": [],
   "source": [
    "material_jcpds = ds_jcpds.JCPDS()\n",
    "material_jcpds.set_from_cif(fn_cif, k0, k0p, \\\n",
    "                      thermal_expansion=alpha, \n",
    "                        two_theta_range=xrange)"
   ]
  },
  {
   "cell_type": "markdown",
   "metadata": {},
   "source": [
    "Calculate diffraction pattern at a pressure."
   ]
  },
  {
   "cell_type": "code",
   "execution_count": 24,
   "metadata": {},
   "outputs": [],
   "source": [
    "material_jcpds.cal_dsp(pressure = 100.)\n",
    "dl = material_jcpds.get_DiffractionLines()\n",
    "tth, inten = material_jcpds.get_tthVSint(wl_xray)"
   ]
  },
  {
   "cell_type": "code",
   "execution_count": 25,
   "metadata": {},
   "outputs": [
    {
     "data": {
      "text/plain": [
       "(7.5, 9)"
      ]
     },
     "execution_count": 25,
     "metadata": {},
     "output_type": "execute_result"
    },
    {
     "data": {
      "image/png": "[encoded data removed]",
      "text/plain": [
       "<Figure size 504x216 with 2 Axes>"
      ]
     },
     "metadata": {
      "image/png": {
       "height": 190,
       "width": 432
      },
      "needs_background": "light"
     },
     "output_type": "display_data"
    }
   ],
   "source": [
    "f, ax = plt.subplots(2, 1, figsize=(7,3), sharex=True)\n",
    "ax[0].vlines(diff_lines[:,0], 0., diff_lines[:,2], color='b')\n",
    "ax[1].vlines(tth, 0., inten, color = 'r')\n",
    "ax[0].set_xlim(7.5,9)"
   ]
  },
  {
   "cell_type": "markdown",
   "metadata": {},
   "source": [
    "## Save to a JCPDS file"
   ]
  },
  {
   "cell_type": "code",
   "execution_count": 26,
   "metadata": {},
   "outputs": [],
   "source": [
    "material_jcpds.write_to_file(fn_jcpds, comments=comments_jcpds)"
   ]
  },
  {
   "cell_type": "code",
   "execution_count": 27,
   "metadata": {},
   "outputs": [
    {
     "name": "stdout",
     "output_type": "stream",
     "text": [
      "4\n",
      "Bridgmanite\n",
      "4 260.00 4.00 \n",
      "4.77540 4.92920 6.89690 \n",
      "3.1600e-05 \n",
      "d-spacing    I/I0     h   k   l \n",
      "3.926131 0.82 1.0 0.0 1.0 \n",
      "3.448450 8.23 0.0 0.0 2.0 \n",
      "3.429802 20.92 1.0 1.0 0.0 \n",
      "3.071022 8.94 1.0 1.0 1.0 \n",
      "2.464600 24.50 0.0 2.0 0.0 \n",
      "2.431802 100.00 1.0 1.0 2.0 \n",
      "2.387700 18.57 2.0 0.0 0.0 \n",
      "2.320866 0.47 0.0 2.0 1.0 \n",
      "2.190117 3.77 1.0 2.0 0.0 \n",
      "2.148865 10.92 2.0 1.0 0.0 \n",
      "2.087399 10.37 1.0 2.0 1.0 \n",
      "2.071424 23.71 1.0 0.0 3.0 \n",
      "2.051591 19.61 2.0 1.0 1.0 \n",
      "2.005137 13.51 0.0 2.0 2.0 \n",
      "1.963065 8.00 2.0 0.0 2.0 \n",
      "1.909655 14.02 1.0 1.0 3.0 \n",
      "1.848773 10.74 1.0 2.0 2.0 \n",
      "1.823757 5.02 2.0 1.0 2.0 \n",
      "1.724225 38.99 0.0 0.0 4.0 \n",
      "1.714901 65.71 2.0 2.0 0.0 \n",
      "1.681123 7.67 0.0 2.0 3.0 \n",
      "1.664226 8.88 2.0 2.0 1.0 \n",
      "1.585732 3.16 1.0 2.0 3.0 \n",
      "1.569861 3.41 2.0 1.0 3.0 \n",
      "1.553674 10.26 1.0 3.0 0.0 \n",
      "1.551026 1.15 3.0 0.0 1.0 \n",
      "1.540515 4.15 1.0 1.0 4.0 \n",
      "1.535511 7.41 2.0 2.0 2.0 \n",
      "1.515691 17.39 1.0 3.0 1.0 \n",
      "1.514774 0.53 3.0 1.0 0.0 \n",
      "1.479510 3.70 3.0 1.0 1.0 \n",
      "1.416541 22.43 1.0 3.0 2.0 \n",
      "1.412808 22.91 0.0 2.0 4.0 \n",
      "1.397856 20.35 2.0 0.0 4.0 \n",
      "1.386872 54.06 3.0 1.0 2.0 \n",
      "1.374592 0.37 2.0 2.0 3.0 \n",
      "1.354762 0.03 1.0 2.0 4.0 \n",
      "1.353553 0.26 2.0 3.0 0.0 \n",
      "1.344825 0.27 2.0 1.0 4.0 \n",
      "1.337155 1.79 3.0 2.0 0.0 \n",
      "1.328215 0.75 2.0 3.0 1.0 \n",
      "1.325203 2.04 1.0 0.0 5.0 \n",
      "1.312711 0.05 3.0 2.0 1.0 \n",
      "1.308710 0.22 3.0 0.0 3.0 \n",
      "1.287274 6.27 1.0 3.0 3.0 \n",
      "1.279760 0.10 1.0 1.0 5.0 \n",
      "1.264888 0.89 3.0 1.0 3.0 \n",
      "1.259970 1.14 2.0 3.0 2.0 \n",
      "1.246712 0.10 3.0 2.0 2.0 \n",
      "1.232300 5.96 0.0 4.0 0.0 \n",
      "1.215901 27.85 2.0 2.0 4.0 \n",
      "1.213088 2.46 0.0 4.0 1.0 \n",
      "1.203683 0.02 0.0 2.0 5.0 \n",
      "1.193850 5.01 4.0 0.0 0.0 \n",
      "1.193212 3.55 1.0 4.0 0.0 \n",
      "1.175746 0.03 1.0 4.0 1.0 \n",
      "1.167176 4.19 1.0 2.0 5.0 \n",
      "1.166403 3.56 2.0 3.0 3.0 \n",
      "1.160804 3.01 2.0 1.0 5.0 \n",
      "1.160433 2.29 0.0 4.0 2.0 \n",
      "1.160303 2.18 4.0 1.0 0.0 \n",
      "1.155861 1.41 3.0 2.0 3.0 \n",
      "1.154214 5.35 1.0 3.0 4.0 \n",
      "1.149483 0.53 0.0 0.0 6.0 \n",
      "1.144223 1.06 4.0 1.0 1.0 \n",
      "1.143267 0.01 3.0 3.0 0.0 \n",
      "1.137994 0.15 3.0 1.0 4.0 \n",
      "1.128156 1.45 4.0 0.0 2.0 \n",
      "1.127876 1.48 3.0 3.0 1.0 \n",
      "1.127617 0.54 1.0 4.0 2.0 \n",
      "1.099721 1.49 4.0 1.0 2.0 \n",
      "1.095059 2.83 2.0 4.0 0.0 \n",
      "1.089902 12.69 1.0 1.0 6.0 \n",
      "1.086108 0.02 0.0 4.0 3.0 \n",
      "1.085184 6.64 3.0 3.0 2.0 \n",
      "1.081511 1.57 2.0 4.0 1.0 \n",
      "1.074830 3.59 2.0 2.0 5.0 \n",
      "1.074433 3.58 4.0 2.0 0.0 \n",
      "1.064682 0.00 2.0 3.0 4.0 \n",
      "1.061627 1.84 4.0 2.0 1.0 \n",
      "1.059062 0.60 1.0 4.0 3.0 \n",
      "1.056646 0.58 3.0 2.0 4.0 \n",
      "1.043700 1.99 2.0 4.0 2.0 \n",
      "1.042441 0.68 3.0 0.0 5.0 \n",
      "1.041750 0.21 0.0 2.0 6.0 \n",
      "1.035849 1.95 4.0 1.0 3.0 \n",
      "1.035712 0.28 2.0 0.0 6.0 \n",
      "1.031510 4.93 1.0 3.0 5.0 \n",
      "1.025796 1.67 4.0 2.0 2.0 \n",
      "1.023674 3.84 3.0 3.0 3.0 \n",
      "1.019883 3.16 3.0 1.0 5.0 \n",
      "1.017813 0.00 1.0 2.0 6.0 \n",
      "1.013579 0.20 2.0 1.0 6.0 \n",
      "1.002568 4.28 0.0 4.0 4.0 \n",
      "0.988633 5.28 2.0 4.0 3.0 \n",
      "0.981533 4.14 4.0 0.0 4.0 \n",
      "0.981178 0.59 1.0 4.0 4.0 \n",
      "0.974427 0.02 3.0 4.0 0.0 \n",
      "0.973376 1.76 4.0 2.0 3.0 \n",
      "0.965819 0.18 4.0 3.0 0.0 \n",
      "0.965481 1.96 1.0 5.0 0.0 \n",
      "0.964947 0.78 1.0 0.0 7.0 \n",
      "0.964845 0.20 3.0 4.0 1.0 \n",
      "0.962633 0.16 4.0 1.0 4.0 \n",
      "0.960092 0.09 3.0 2.0 5.0 \n",
      "0.956486 0.80 4.0 3.0 1.0 \n",
      "0.956158 3.66 1.0 5.0 1.0 \n",
      "0.954828 0.05 2.0 2.0 6.0 \n",
      "0.952838 0.55 3.0 3.0 4.0 \n",
      "0.946973 0.84 1.0 1.0 7.0 \n",
      "0.946052 0.19 5.0 0.0 1.0 \n",
      "0.937710 1.81 3.0 4.0 2.0 \n",
      "0.937641 0.10 5.0 1.0 0.0 \n",
      "0.930031 0.67 4.0 3.0 2.0 \n",
      "0.929730 0.83 1.0 5.0 2.0 \n",
      "0.929095 0.01 5.0 1.0 1.0 \n",
      "0.924387 3.98 2.0 4.0 4.0 \n",
      "0.924070 3.43 1.0 3.0 6.0 \n",
      "0.918984 2.06 0.0 4.0 5.0 \n",
      "0.915683 8.98 3.0 1.0 6.0 \n",
      "0.914874 0.62 0.0 2.0 7.0 \n",
      "0.911879 4.40 4.0 2.0 4.0 \n",
      "0.911226 0.06 2.0 5.0 0.0 \n",
      "0.904792 9.43 5.0 1.0 2.0 \n",
      "0.903375 0.24 2.0 5.0 1.0 \n",
      "0.902426 0.03 1.0 4.0 5.0 \n",
      "0.898533 0.19 1.0 2.0 7.0 \n",
      "0.897165 0.02 3.0 4.0 3.0 \n",
      "0.895616 0.37 2.0 1.0 7.0 \n",
      "0.890550 0.08 5.0 2.0 0.0 \n",
      "0.890433 0.10 4.0 3.0 3.0 \n",
      "0.890168 2.71 1.0 5.0 3.0 \n",
      "0.887935 0.13 4.0 1.0 5.0 \n",
      "0.883218 0.23 5.0 2.0 1.0 \n",
      "0.881996 0.24 5.0 0.0 3.0 \n",
      "0.880988 0.07 2.0 5.0 2.0 \n",
      "0.880230 0.08 3.0 3.0 5.0 \n",
      "0.876168 0.00 2.0 3.0 6.0 \n",
      "0.871673 0.32 3.0 2.0 6.0 \n",
      "0.868207 1.32 5.0 1.0 3.0 \n",
      "0.862262 0.06 5.0 2.0 2.0 \n",
      "0.862112 1.23 0.0 0.0 8.0 \n",
      "0.857653 0.03 2.0 4.0 5.0 \n",
      "0.857450 1.03 4.0 4.0 0.0 \n",
      "0.854309 0.09 2.0 2.0 7.0 \n",
      "0.850900 2.11 4.0 4.0 1.0 \n",
      "0.848328 0.29 3.0 4.0 4.0 \n",
      "0.847635 0.53 4.0 2.0 5.0 \n",
      "0.847110 0.13 2.0 5.0 3.0 \n",
      "0.842406 3.09 1.0 5.0 4.0 \n",
      "0.840562 0.28 0.0 4.0 6.0 \n",
      "0.838122 2.93 3.0 5.0 0.0 \n",
      "0.837772 0.02 3.0 0.0 7.0 \n",
      "0.836104 0.84 1.0 1.0 8.0 \n",
      "0.832113 2.51 4.0 4.0 2.0 \n",
      "0.832067 1.02 1.0 3.0 7.0 \n",
      "0.832001 0.72 3.0 5.0 1.0 \n",
      "0.830423 0.09 5.0 2.0 3.0 \n",
      "0.828048 0.28 4.0 0.0 6.0 \n",
      "0.827835 0.50 1.0 4.0 6.0 \n",
      "0.825928 0.09 3.0 1.0 7.0 \n",
      "0.825715 0.86 5.0 3.0 0.0 \n",
      "0.823722 0.01 5.0 1.0 4.0 \n",
      "0.821533 0.38 0.0 6.0 0.0 \n",
      "0.819860 0.49 5.0 3.0 1.0 \n",
      "0.816606 0.21 4.0 1.0 6.0 \n",
      "0.815766 0.00 0.0 6.0 1.0 \n",
      "0.814413 3.63 3.0 5.0 2.0 \n",
      "0.813763 5.36 0.0 2.0 8.0 \n",
      "0.810875 4.86 2.0 0.0 8.0 \n",
      "0.810601 4.88 3.0 3.0 6.0 \n",
      "0.809640 0.15 1.0 6.0 0.0 \n",
      "0.805639 0.06 2.0 5.0 4.0 \n",
      "0.804118 0.00 1.0 6.0 1.0 \n",
      "0.803390 1.09 4.0 4.0 3.0 \n",
      "0.803016 7.36 5.0 3.0 2.0 \n",
      "0.802199 0.42 1.0 2.0 8.0 \n",
      "0.800121 0.23 2.0 1.0 8.0 \n",
      "0.799168 1.66 0.0 6.0 2.0 \n",
      "0.796581 0.64 2.0 3.0 7.0 \n",
      "0.795900 1.15 6.0 0.0 0.0 \n",
      "0.795872 0.18 3.0 4.0 5.0 \n",
      "0.793199 0.27 3.0 2.0 7.0 \n",
      "0.792866 1.26 2.0 4.0 6.0 \n",
      "0.791244 0.07 5.0 2.0 4.0 \n",
      "0.791162 1.20 4.0 3.0 5.0 \n",
      "0.790976 1.51 1.0 5.0 5.0 \n",
      "0.788207 1.04 1.0 6.0 2.0 \n",
      "0.787426 0.48 3.0 5.0 3.0 \n",
      "0.785723 0.16 6.0 1.0 0.0 \n",
      "0.785226 0.05 5.0 0.0 5.0 \n",
      "0.784931 1.00 4.0 2.0 6.0 \n",
      "0.780674 0.04 6.0 1.0 1.0 \n",
      "0.777111 0.00 5.0 3.0 3.0 \n",
      "0.776837 0.18 2.0 6.0 0.0 \n",
      "0.775513 0.59 6.0 0.0 2.0 \n",
      "0.775449 0.46 5.0 1.0 5.0 \n",
      "0.773622 0.56 0.0 6.0 3.0 \n",
      "0.771955 0.71 2.0 6.0 1.0 \n",
      "0.770257 2.04 2.0 2.0 8.0 \n",
      "0.769541 0.00 0.0 4.0 7.0 \n",
      "0.767756 1.13 4.0 4.0 4.0 \n",
      "0.766089 0.66 6.0 1.0 2.0 \n",
      "0.763666 0.09 1.0 6.0 3.0 \n",
      "0.760306 0.53 2.0 5.0 5.0 \n",
      "0.760165 0.01 4.0 5.0 0.0 \n",
      "0.759740 0.13 1.0 4.0 7.0 \n",
      "0.757846 1.91 2.0 6.0 2.0 \n",
      "0.757387 0.57 6.0 2.0 0.0 \n",
      "0.756642 0.00 1.0 0.0 9.0 \n",
      "0.755589 0.05 4.0 5.0 1.0 \n",
      "0.754896 0.02 5.0 4.0 0.0 \n",
      "0.753836 0.61 1.0 3.0 8.0 \n",
      "0.753787 1.86 3.0 5.0 4.0 \n",
      "0.752861 0.27 6.0 2.0 1.0 \n",
      "0.751032 0.45 4.0 1.0 7.0 \n",
      "0.750414 0.00 5.0 4.0 1.0 \n",
      "0.748171 0.15 5.0 2.0 5.0 \n",
      "0.747882 0.10 1.0 1.0 9.0 \n",
      "0.746352 0.82 3.0 3.0 7.0 \n",
      "0.744723 0.30 5.0 3.0 4.0 \n",
      "0.743499 0.01 6.0 1.0 3.0 \n",
      "0.743294 0.11 3.0 4.0 6.0 \n",
      "0.742343 0.00 4.0 5.0 2.0 \n",
      "0.741651 0.35 0.0 6.0 4.0 \n",
      "0.739755 0.35 6.0 2.0 2.0 \n",
      "0.739452 0.01 4.0 3.0 6.0 \n",
      "0.739301 0.77 1.0 5.0 6.0 \n",
      "0.737433 0.14 5.0 4.0 2.0 \n",
      "0.732865 0.01 1.0 6.0 4.0 \n",
      "0.732440 1.21 2.0 4.0 7.0 \n",
      "0.731765 0.04 0.0 2.0 9.0 \n",
      "0.730039 0.45 3.0 6.0 0.0 \n",
      "0.728221 1.28 4.0 4.0 5.0 \n",
      "0.727146 0.15 2.0 3.0 8.0 \n",
      "0.726575 4.69 5.0 1.0 6.0 \n",
      "0.726171 0.45 4.0 2.0 7.0 \n",
      "0.725983 0.06 3.0 6.0 1.0 \n",
      "0.724570 0.00 3.0 2.0 8.0 \n",
      "0.723322 0.06 1.0 2.0 9.0 \n",
      "0.722628 1.05 6.0 0.0 4.0 \n",
      "0.721798 0.27 2.0 1.0 9.0 \n",
      "0.721734 0.50 4.0 5.0 3.0 \n",
      "0.719355 0.50 6.0 2.0 3.0 \n",
      "0.717219 0.01 5.0 4.0 3.0 \n",
      "0.716288 0.42 6.0 3.0 0.0 \n",
      "0.716268 0.36 3.0 5.0 5.0 \n",
      "0.714210 0.04 3.0 6.0 2.0 \n",
      "0.714074 0.05 2.0 5.0 6.0 \n",
      "0.712456 0.04 6.0 3.0 1.0 \n",
      "0.708478 0.64 5.0 3.0 5.0 \n",
      "0.708270 0.36 2.0 6.0 4.0 \n",
      "0.706404 0.60 0.0 4.0 8.0 \n",
      "0.705831 0.12 0.0 6.0 5.0 \n",
      "0.703993 0.04 5.0 2.0 6.0 \n",
      "0.701319 0.02 6.0 3.0 2.0 \n",
      "0.699645 0.20 2.0 2.0 9.0 \n",
      "0.698928 0.64 4.0 0.0 8.0 \n",
      "0.698800 0.13 1.0 4.0 8.0 \n",
      "0.698245 0.01 1.0 6.0 5.0 \n",
      "0.696638 1.44 1.0 7.0 0.0 \n",
      "0.695800 0.01 3.0 6.0 3.0 \n",
      "0.695566 0.00 4.0 5.0 4.0 \n",
      "0.693436 1.12 6.0 2.0 4.0 \n",
      "0.693112 0.46 1.0 7.0 1.0 \n",
      "0.692826 0.01 3.0 4.0 7.0 \n",
      "0.692006 0.33 4.0 1.0 8.0 \n",
      "0.691522 0.06 5.0 4.0 4.0 \n",
      "0.690475 0.02 3.0 0.0 9.0 \n",
      "0.689712 0.02 4.0 3.0 7.0 \n",
      "0.689690 0.18 0.0 0.0 10.0 \n",
      "0.689589 0.85 1.0 5.0 7.0 \n",
      "0.688340 0.85 3.0 3.0 8.0 \n",
      "0.687296 0.97 4.0 4.0 6.0 \n",
      "0.687270 0.60 1.0 3.0 9.0 \n",
      "0.685960 0.01 5.0 5.0 0.0 \n",
      "0.685769 0.07 5.0 0.0 7.0 \n",
      "0.683864 0.16 6.0 3.0 3.0 \n",
      "0.683798 0.07 3.0 1.0 9.0 \n",
      "0.682844 0.27 1.0 7.0 2.0 \n",
      "0.682730 0.07 6.0 1.0 5.0 \n",
      "0.682593 0.07 5.0 5.0 1.0 \n",
      "0.679227 0.38 5.0 1.0 7.0 \n",
      "0.678887 0.40 7.0 0.0 1.0 \n",
      "0.677381 1.47 2.0 4.0 8.0 \n",
      "0.677221 0.32 3.0 5.0 6.0 \n",
      "0.676876 0.96 2.0 6.0 5.0 \n",
      "0.676776 0.13 4.0 6.0 0.0 \n",
      "0.676155 1.61 1.0 1.0 10.0 \n",
      "0.675759 0.11 7.0 1.0 0.0 \n",
      "0.675412 0.13 2.0 7.0 0.0 \n",
      "0.673541 0.56 4.0 6.0 1.0 \n",
      "0.672779 0.14 5.0 5.0 2.0 \n",
      "0.672538 0.10 7.0 1.0 1.0 \n",
      "0.672413 1.34 4.0 2.0 8.0 \n",
      "0.672264 0.29 3.0 6.0 4.0 \n",
      "0.672196 0.03 2.0 7.0 1.0 \n",
      "0.670625 1.41 5.0 3.0 6.0 \n",
      "0.668981 0.03 2.0 5.0 7.0 \n",
      "0.668578 0.38 6.0 4.0 0.0 \n",
      "0.668379 0.50 0.0 6.0 6.0 \n",
      "0.666863 0.07 2.0 3.0 9.0 \n",
      "0.666701 0.59 1.0 7.0 3.0 \n",
      "0.665761 0.38 4.0 5.0 5.0 \n",
      "0.665458 0.66 6.0 4.0 1.0 \n",
      "0.664875 0.02 3.0 2.0 9.0 \n",
      "0.664174 0.18 0.0 2.0 10.0 \n",
      "0.664108 1.56 4.0 6.0 2.0 \n",
      "0.663893 0.08 6.0 2.0 5.0 \n",
      "0.663146 2.20 7.0 1.0 2.0 \n",
      "0.662818 0.01 2.0 7.0 2.0 \n",
      "0.662602 0.21 2.0 0.0 10.0 \n",
      "0.662213 0.00 5.0 4.0 5.0 \n",
      "0.661480 0.24 6.0 3.0 4.0 \n",
      "0.660670 0.03 5.0 2.0 7.0 \n",
      "0.657842 0.06 1.0 2.0 10.0 \n",
      "0.657478 0.02 7.0 2.0 0.0 \n",
      "0.657324 0.07 5.0 5.0 3.0 \n",
      "0.656695 0.18 2.0 1.0 10.0 \n",
      "0.656356 0.95 6.0 4.0 2.0 \n",
      "0.654510 0.19 7.0 2.0 1.0 \n",
      "0.654355 0.09 6.0 0.0 6.0 \n",
      "0.654013 0.04 7.0 0.0 3.0 \n",
      "0.650756 0.09 0.0 4.0 9.0 \n",
      "0.649229 0.73 4.0 6.0 3.0 \n",
      "0.648664 0.01 6.0 1.0 6.0 \n",
      "0.648331 0.05 7.0 1.0 3.0 \n",
      "0.648024 0.05 2.0 7.0 3.0 \n",
      "0.646812 0.43 4.0 4.0 7.0 \n",
      "0.645911 1.69 1.0 7.0 4.0 \n",
      "0.645844 0.09 7.0 2.0 2.0 \n",
      "0.645680 0.44 3.0 4.0 8.0 \n",
      "0.645242 0.06 3.0 6.0 5.0 \n",
      "0.644796 0.01 1.0 4.0 9.0 \n",
      "0.643974 0.28 3.0 7.0 0.0 \n",
      "0.643637 1.22 2.0 6.0 6.0 \n",
      "0.643157 0.17 4.0 3.0 8.0 \n",
      "0.643057 1.44 1.0 5.0 8.0 \n",
      "0.641981 0.20 6.0 4.0 3.0 \n",
      "0.641185 0.11 3.0 7.0 1.0 \n",
      "0.639880 0.02 2.0 2.0 10.0 \n",
      "0.639447 0.11 4.0 1.0 9.0 \n",
      "0.638393 0.18 3.0 5.0 7.0 \n",
      "0.637373 0.32 5.0 5.0 4.0 \n",
      "0.636552 0.13 3.0 3.0 9.0 \n",
      "0.635690 0.22 6.0 3.0 5.0 \n",
      "0.634630 0.02 5.0 1.0 8.0 \n",
      "0.634059 0.00 4.0 5.0 6.0 \n",
      "0.632444 0.48 6.0 2.0 6.0 \n",
      "0.632135 0.70 7.0 2.0 3.0 \n",
      "0.630991 0.03 5.0 4.0 6.0 \n",
      "0.630970 0.19 0.0 6.0 7.0 \n",
      "0.630372 0.43 1.0 3.0 10.0 \n",
      "0.630051 0.01 7.0 3.0 0.0 \n",
      "0.629985 0.17 4.0 6.0 4.0 \n",
      "0.629164 0.09 7.0 1.0 4.0 \n",
      "0.628884 0.08 2.0 7.0 4.0 \n",
      "0.627855 0.17 2.0 4.0 9.0 \n",
      "0.627690 1.41 3.0 1.0 10.0 \n",
      "0.627438 0.07 7.0 3.0 1.0 \n",
      "0.626249 0.02 2.0 5.0 8.0 \n",
      "0.625533 0.03 1.0 6.0 7.0 \n",
      "0.623892 0.18 4.0 2.0 9.0 \n",
      "0.623356 0.46 6.0 4.0 4.0 \n",
      "0.622821 0.03 5.0 6.0 0.0 \n",
      "0.621834 0.22 1.0 7.0 5.0 \n",
      "0.621656 0.01 1.0 0.0 11.0 \n",
      "0.620297 0.01 5.0 6.0 1.0 \n",
      "0.619791 0.51 7.0 3.0 2.0 \n",
      "0.619415 0.01 5.0 2.0 8.0 \n",
      "0.619272 0.09 6.0 5.0 0.0 \n",
      "0.616770 0.02 1.0 1.0 11.0 \n",
      "0.616258 0.26 3.0 6.0 6.0 \n",
      "0.616150 0.02 0.0 8.0 0.0 \n",
      "0.614515 0.02 2.0 3.0 10.0 \n",
      "0.614305 0.00 6.0 1.0 7.0 \n",
      "0.614204 0.03 5.0 5.0 5.0 \n",
      "0.612958 0.14 3.0 2.0 10.0 \n",
      "0.612905 0.01 5.0 6.0 2.0 \n",
      "0.611501 0.51 7.0 0.0 5.0 \n",
      "0.611084 0.15 1.0 8.0 0.0 \n",
      "0.610030 0.00 2.0 6.0 7.0 \n",
      "0.609522 0.20 6.0 5.0 2.0 \n",
      "0.608700 0.02 1.0 8.0 1.0 \n",
      "0.607951 0.32 4.0 4.0 8.0 \n",
      "0.607919 0.23 6.0 3.0 6.0 \n",
      "0.607644 0.29 7.0 3.0 3.0 \n",
      "0.607585 0.28 4.0 6.0 5.0 \n",
      "0.606849 0.27 7.0 1.0 5.0 \n",
      "0.606597 0.13 2.0 7.0 5.0 \n",
      "0.606544 0.37 0.0 8.0 2.0 \n",
      "0.606526 0.03 4.0 7.0 0.0 \n",
      "0.603271 0.91 3.0 7.0 4.0 \n",
      "0.602776 0.12 1.0 2.0 11.0 \n",
      "0.602363 0.03 3.0 4.0 9.0 \n",
      "0.601893 0.16 2.0 1.0 11.0 \n",
      "0.601856 0.20 4.0 5.0 7.0 \n",
      "0.601842 0.02 0.0 4.0 10.0 \n",
      "0.601710 0.01 1.0 8.0 2.0 \n",
      "0.601632 0.68 6.0 4.0 5.0 \n",
      "0.601151 0.01 5.0 6.0 3.0 \n",
      "0.600944 0.08 3.0 5.0 8.0 \n",
      "0.600474 0.22 6.0 2.0 7.0 \n",
      "0.600313 0.07 4.0 3.0 9.0 \n",
      "0.600231 0.47 1.0 5.0 9.0 \n",
      "0.599231 0.00 5.0 4.0 7.0 \n",
      "0.597958 0.32 6.0 5.0 3.0 \n",
      "0.597707 0.03 5.0 0.0 9.0 \n",
      "0.597356 0.07 4.0 7.0 2.0 \n",
      "0.597198 0.05 4.0 0.0 10.0 \n",
      "0.597118 0.44 1.0 4.0 10.0 \n",
      "0.596925 0.11 8.0 0.0 0.0 \n",
      "0.596845 0.10 7.0 4.0 0.0 \n",
      "0.596606 0.14 2.0 8.0 0.0 \n",
      "0.596321 0.03 5.0 3.0 8.0 \n",
      "0.595768 0.04 1.0 7.0 6.0 \n",
      "0.595146 0.09 0.0 8.0 3.0 \n",
      "0.594740 0.06 0.0 6.0 8.0 \n",
      "0.594623 0.07 7.0 4.0 1.0 \n",
      "0.593505 0.02 7.0 2.0 5.0 \n",
      "0.592863 0.29 4.0 1.0 10.0 \n",
      "0.592596 0.07 8.0 1.0 0.0 \n",
      "0.591780 0.12 7.0 3.0 4.0 \n",
      "0.590577 0.10 1.0 8.0 3.0 \n",
      "0.590553 1.74 3.0 3.0 10.0 \n",
      "0.590181 0.41 1.0 6.0 8.0 \n",
      "0.589048 0.85 5.0 5.0 6.0 \n",
      "0.588867 0.16 2.0 2.0 11.0 \n",
      "0.588178 0.03 8.0 0.0 2.0 \n",
      "0.588102 0.05 7.0 4.0 2.0 \n",
      "0.587873 1.83 2.0 8.0 2.0 \n",
      "0.586569 0.01 3.0 6.0 7.0 \n",
      "0.586494 0.02 2.0 5.0 9.0 \n",
      "0.586459 0.25 4.0 7.0 3.0 \n",
      "0.585777 0.03 5.0 6.0 4.0 \n",
      "0.584795 0.19 6.0 0.0 8.0 \n",
      "0.583588 0.42 2.0 4.0 10.0 \n",
      "0.583516 0.19 3.0 7.0 5.0 \n",
      "0.583368 0.04 3.0 0.0 11.0 \n",
      "0.583201 0.83 4.0 6.0 6.0 \n",
      "0.582822 0.15 6.0 5.0 4.0 \n",
      "0.582550 0.98 7.0 1.0 6.0 \n",
      "0.582327 0.08 2.0 7.0 6.0 \n",
      "0.581431 0.35 1.0 3.0 11.0 \n",
      "0.580869 0.03 5.0 2.0 9.0 \n",
      "0.580722 0.28 6.0 1.0 8.0 \n",
      "0.580402 0.35 4.0 2.0 10.0 \n",
      "0.580216 0.00 0.0 8.0 4.0 \n",
      "0.580151 0.97 8.0 2.0 0.0 \n",
      "0.579365 0.06 6.0 3.0 7.0 \n",
      "0.579325 0.12 3.0 1.0 11.0 \n",
      "0.578110 0.07 8.0 2.0 1.0 \n",
      "0.577930 0.42 6.0 4.0 6.0 \n",
      "0.577694 0.01 7.0 4.0 3.0 \n",
      "0.577477 0.09 2.0 8.0 3.0 \n",
      "0.577107 0.25 2.0 6.0 8.0 \n",
      "0.575981 0.06 1.0 8.0 4.0 \n",
      "0.574742 0.24 0.0 0.0 12.0 \n",
      "0.574606 0.01 3.0 8.0 0.0 \n",
      "0.573838 0.01 8.0 1.0 3.0 \n",
      "0.573097 0.01 7.0 3.0 5.0 \n",
      "0.572112 0.29 8.0 2.0 2.0 \n",
      "0.571634 0.08 6.0 6.0 0.0 \n",
      "0.571383 0.36 4.0 4.0 9.0 \n",
      "0.569680 0.20 6.0 6.0 1.0 \n",
      "0.568997 0.78 6.0 2.0 8.0 \n",
      "0.568918 0.01 2.0 3.0 11.0 \n",
      "0.568817 0.31 1.0 7.0 7.0 \n",
      "0.567938 0.05 5.0 4.0 8.0 \n",
      "0.567640 0.01 5.0 6.0 5.0 \n",
      "0.566838 0.17 1.0 1.0 12.0 \n",
      "0.566791 0.17 3.0 8.0 2.0 \n",
      "0.566776 0.86 5.0 7.0 0.0 \n",
      "0.565555 0.12 3.0 5.0 9.0 \n",
      "0.564950 0.11 6.0 5.0 5.0 \n",
      "0.564872 0.01 5.0 7.0 1.0 \n",
      "0.564078 0.42 8.0 0.0 4.0 \n",
      "0.564011 0.02 7.0 4.0 4.0 \n",
      "0.563938 0.77 6.0 6.0 2.0 \n",
      "0.563809 0.06 2.0 8.0 4.0 \n",
      "0.562960 0.03 5.0 5.0 7.0 \n",
      "0.562948 0.00 3.0 4.0 10.0 \n",
      "0.562576 0.02 0.0 8.0 5.0 \n",
      "0.562517 0.00 8.0 2.0 3.0 \n",
      "0.561816 0.17 3.0 7.0 6.0 \n",
      "0.561696 0.05 5.0 3.0 9.0 \n",
      "0.561274 0.06 4.0 3.0 10.0 \n",
      "0.561207 0.32 1.0 5.0 10.0 \n",
      "0.561047 0.03 8.0 3.0 0.0 \n",
      "0.560981 0.47 7.0 5.0 0.0 \n",
      "0.560876 0.03 7.0 0.0 7.0 \n",
      "0.560420 0.04 8.0 1.0 4.0 \n",
      "0.560374 0.00 0.0 6.0 9.0 \n",
      "0.559724 0.98 0.0 2.0 12.0 \n",
      "0.559272 0.38 5.0 7.0 2.0 \n",
      "0.559134 0.10 7.0 5.0 1.0 \n",
      "0.558817 0.11 0.0 4.0 11.0 \n",
      "0.558781 0.87 2.0 0.0 12.0 \n",
      "0.558712 0.14 1.0 8.0 5.0 \n",
      "0.557850 0.39 4.0 6.0 7.0 \n",
      "0.557457 0.06 3.0 8.0 3.0 \n",
      "0.557280 0.02 7.0 1.0 7.0 \n",
      "0.557124 0.01 3.0 6.0 8.0 \n",
      "0.557085 0.02 2.0 7.0 7.0 \n",
      "0.556556 0.00 1.0 6.0 9.0 \n",
      "0.555918 0.07 1.0 2.0 12.0 \n",
      "0.555579 1.73 5.0 1.0 10.0 \n",
      "0.555225 0.03 2.0 1.0 12.0 \n",
      "0.555222 0.09 4.0 7.0 5.0 \n",
      "0.554742 0.45 6.0 6.0 3.0 \n",
      "0.553766 0.22 8.0 3.0 2.0 \n",
      "0.553702 0.62 7.0 5.0 2.0 \n",
      "0.553232 0.12 6.0 4.0 7.0 \n",
      "0.552499 0.77 7.0 3.0 6.0 \n",
      "0.551608 0.04 4.0 1.0 11.0 \n",
      "0.550940 0.00 6.0 3.0 8.0 \n",
      "0.550299 0.05 5.0 7.0 3.0 \n",
      "0.549930 0.02 2.0 5.0 10.0 \n",
      "0.549860 0.95 8.0 2.0 4.0 \n",
      "0.549746 0.03 3.0 3.0 11.0 \n",
      "0.548602 0.00 6.0 1.0 9.0 \n",
      "0.547767 0.10 7.0 4.0 5.0 \n",
      "0.547605 0.02 5.0 6.0 6.0 \n",
      "0.547582 0.03 2.0 8.0 5.0 \n",
      "0.547529 0.01 4.0 8.0 0.0 \n",
      "0.546893 0.37 7.0 2.0 7.0 \n",
      "0.545812 0.12 4.0 8.0 1.0 \n",
      "0.545551 0.11 2.0 6.0 9.0 \n",
      "0.545286 0.02 5.0 2.0 10.0 \n",
      "0.545188 0.11 6.0 5.0 6.0 \n",
      "0.545132 0.05 3.0 8.0 4.0 \n",
      "0.545051 0.03 8.0 3.0 3.0 \n",
      "0.544990 0.08 7.0 5.0 3.0 \n",
      "0.544951 0.50 2.0 2.0 12.0 \n",
      "0.544122 0.33 1.0 9.0 0.0 \n",
      "0.544114 0.03 2.0 4.0 11.0 \n",
      "0.543054 0.61 0.0 8.0 6.0 \n",
      "0.542592 0.10 6.0 6.0 4.0 \n",
      "0.542436 0.05 1.0 9.0 1.0 \n",
      "0.541846 0.55 1.0 7.0 8.0 \n",
      "0.541529 0.09 4.0 2.0 11.0 \n",
      "0.540756 0.64 4.0 8.0 2.0 \n",
      "0.539576 0.07 1.0 8.0 6.0 \n",
      "0.539042 0.16 1.0 3.0 12.0 \n",
      "0.538685 0.08 6.0 2.0 9.0 \n",
      "0.538432 0.78 5.0 7.0 4.0 \n",
      "0.537786 0.00 5.0 4.0 9.0 \n",
      "0.537472 0.02 1.0 9.0 2.0 \n",
      "0.537415 0.31 4.0 4.0 10.0 \n",
      "0.537216 0.12 8.0 4.0 0.0 \n",
      "0.536776 0.80 5.0 5.0 8.0 \n",
      "0.536430 0.00 4.0 7.0 6.0 \n",
      "0.535594 0.01 8.0 4.0 1.0 \n",
      "0.534777 0.15 8.0 2.0 5.0 \n",
      "0.533825 0.00 2.0 9.0 0.0 \n",
      "0.533513 0.10 8.0 3.0 4.0 \n",
      "0.533456 0.40 7.0 5.0 4.0 \n",
      "0.532632 0.07 4.0 8.0 3.0 \n",
      "0.532557 0.01 3.0 5.0 10.0 \n",
      "0.532341 0.06 4.0 6.0 8.0 \n",
      "0.532233 0.01 2.0 9.0 1.0 \n",
      "0.531845 0.01 7.0 1.0 8.0 \n",
      "0.531676 0.00 2.0 7.0 8.0 \n",
      "0.530814 0.08 8.0 4.0 2.0 \n",
      "0.530802 0.15 7.0 3.0 7.0 \n",
      "0.530424 0.01 3.0 8.0 5.0 \n",
      "0.529754 0.04 8.0 0.0 6.0 \n",
      "0.529698 0.03 7.0 4.0 6.0 \n",
      "0.529531 0.58 2.0 8.0 6.0 \n",
      "0.529493 0.00 1.0 9.0 3.0 \n",
      "0.529332 0.26 5.0 3.0 10.0 \n",
      "0.529037 0.03 9.0 0.0 1.0 \n",
      "0.529025 0.04 2.0 3.0 12.0 \n",
      "0.528577 0.01 3.0 6.0 9.0 \n",
      "0.528323 0.15 6.0 4.0 8.0 \n",
      "0.528225 0.13 0.0 6.0 10.0 \n",
      "0.528083 0.06 6.0 6.0 5.0 \n",
      "0.528031 0.00 3.0 2.0 12.0 \n",
      "0.527552 0.10 9.0 1.0 0.0 \n",
      "0.527542 0.17 2.0 9.0 2.0 \n",
      "0.527387 0.00 6.0 7.0 0.0 \n",
      "0.527287 0.13 1.0 0.0 13.0 \n",
      "0.527270 0.03 3.0 4.0 11.0 \n",
      "0.526721 0.04 8.0 1.0 6.0 \n",
      "0.526457 0.00 5.0 6.0 7.0 \n",
      "0.526016 0.01 9.0 1.0 1.0 \n",
      "0.525893 0.12 4.0 3.0 11.0 \n",
      "0.525852 0.07 6.0 7.0 1.0 \n",
      "0.525839 0.28 1.0 5.0 11.0 \n",
      "0.525023 0.06 1.0 6.0 10.0 \n",
      "0.524837 0.06 7.0 6.0 0.0 \n",
      "0.524309 0.16 6.0 5.0 7.0 \n",
      "0.524296 0.09 1.0 1.0 13.0 \n",
      "0.524246 0.06 5.0 7.0 5.0 \n",
      "0.524139 0.01 5.0 0.0 11.0 \n",
      "0.523287 0.01 6.0 3.0 9.0 \n",
      "0.523124 0.28 8.0 4.0 3.0 \n",
      "0.522794 0.05 7.0 2.0 8.0 \n",
      "0.522409 0.05 0.0 8.0 7.0 \n",
      "0.521850 0.03 4.0 8.0 4.0 \n",
      "0.521485 0.28 9.0 1.0 2.0 \n",
      "0.521326 0.19 6.0 7.0 2.0 \n",
      "0.521220 0.01 6.0 0.0 10.0 \n",
      "0.521201 0.02 5.0 1.0 11.0 \n",
      "0.520875 0.18 0.0 4.0 12.0 \n",
      "0.519991 0.05 2.0 9.0 3.0 \n",
      "0.519703 0.01 8.0 3.0 5.0 \n",
      "0.519650 0.07 7.0 5.0 5.0 \n",
      "0.519311 0.05 1.0 8.0 7.0 \n",
      "0.518897 0.60 1.0 9.0 4.0 \n",
      "0.518862 0.05 7.0 6.0 2.0 \n",
      "0.518715 0.07 9.0 2.0 0.0 \n",
      "0.518650 0.07 0.0 2.0 13.0 \n",
      "0.518331 0.08 6.0 1.0 10.0 \n",
      "0.517925 0.00 8.0 2.0 6.0 \n",
      "0.517891 0.51 3.0 9.0 0.0 \n",
      "0.517856 0.16 4.0 0.0 12.0 \n",
      "0.517804 0.02 1.0 4.0 12.0 \n",
      "0.517254 0.17 9.0 2.0 1.0 \n",
      "0.517009 0.27 9.0 0.0 3.0 \n",
      "0.516528 0.05 2.0 5.0 11.0 \n",
      "0.516505 0.12 4.0 7.0 7.0 \n",
      "0.516437 0.04 3.0 9.0 1.0 \n",
      "0.516304 0.02 5.0 8.0 1.0 \n",
      "0.515928 1.05 3.0 7.0 8.0 \n",
      "0.515755 0.53 2.0 6.0 10.0 \n",
      "0.515618 0.05 1.0 2.0 13.0 \n",
      "0.515477 0.15 1.0 7.0 9.0 \n",
      "0.515065 0.04 2.0 1.0 13.0 \n",
      "0.515021 0.06 4.0 1.0 12.0 \n",
      "0.514188 0.03 9.0 1.0 3.0 \n",
      "0.514035 0.02 6.0 7.0 3.0 \n",
      "0.513967 0.03 3.0 8.0 6.0 \n",
      "0.513505 0.18 3.0 3.0 12.0 \n",
      "0.512945 0.01 9.0 2.0 2.0 \n",
      "0.512898 0.30 8.0 4.0 4.0 \n",
      "0.512674 0.02 5.0 2.0 11.0 \n",
      "0.512148 0.04 3.0 9.0 2.0 \n",
      "0.512017 0.00 5.0 8.0 2.0 \n",
      "0.511837 0.42 6.0 6.0 6.0 \n",
      "0.511673 0.01 7.0 6.0 3.0 \n",
      "0.511105 0.02 5.0 5.0 9.0 \n",
      "0.510787 0.00 4.0 5.0 10.0 \n",
      "0.510616 0.08 8.0 5.0 0.0 \n",
      "0.510487 0.01 7.0 4.0 7.0 \n",
      "0.510337 0.04 2.0 8.0 7.0 \n",
      "0.509944 0.02 2.0 9.0 4.0 \n",
      "0.509942 0.28 6.0 2.0 10.0 \n",
      "0.509544 0.11 7.0 0.0 9.0 \n",
      "0.509222 0.04 8.0 5.0 1.0 \n",
      "0.509179 0.01 5.0 4.0 10.0 \n",
      "0.508906 0.40 2.0 4.0 12.0 \n",
      "0.508904 0.12 4.0 8.0 5.0 \n",
      "0.508685 0.25 7.0 3.0 8.0 \n",
      "0.508341 0.01 5.0 7.0 6.0 \n",
      "0.507820 0.00 8.0 1.0 7.0 \n",
      "0.507272 0.20 4.0 6.0 9.0 \n",
      "0.506843 0.02 7.0 1.0 9.0 \n",
      "0.506790 0.35 4.0 2.0 12.0 \n",
      "0.506697 0.00 2.0 7.0 9.0 \n",
      "0.506164 0.08 1.0 9.0 5.0 \n",
      "0.506117 0.25 4.0 4.0 11.0 \n",
      "0.505230 0.04 3.0 9.0 3.0 \n",
      "0.505109 0.15 8.0 5.0 2.0 \n",
      "0.505105 0.03 5.0 8.0 3.0 \n",
      "0.504925 0.13 9.0 3.0 0.0 \n",
      "0.504857 0.00 5.0 6.0 8.0 \n",
      "0.504468 0.17 9.0 1.0 4.0 \n",
      "0.504323 0.04 6.0 7.0 4.0 \n",
      "0.504195 0.07 8.0 3.0 6.0 \n",
      "0.504147 0.09 7.0 5.0 6.0 \n",
      "0.503792 0.19 6.0 4.0 9.0 \n",
      "0.503577 0.11 9.0 3.0 1.0 \n",
      "0.503312 0.01 3.0 0.0 13.0 \n",
      "0.502961 0.10 6.0 5.0 8.0 \n",
      "0.502092 0.01 7.0 6.0 4.0 \n",
      "0.502067 0.10 1.0 3.0 13.0 \n",
      "0.502053 0.07 3.0 5.0 11.0 \n",
      "0.501342 0.23 3.0 6.0 10.0 \n",
      "0.501284 0.07 0.0 8.0 8.0 \n",
      "0.500709 0.05 3.0 1.0 13.0 \n",
      "0.500591 0.03 8.0 4.0 5.0 \n",
      "0.499598 0.19 9.0 3.0 2.0 \n",
      "0.499347 0.07 5.0 3.0 11.0 \n",
      "0.498991 0.09 7.0 2.0 9.0 \n",
      "0.498545 0.01 1.0 8.0 8.0 \n",
      "0.498418 0.01 0.0 6.0 11.0 \n",
      "0.497804 0.12 4.0 9.0 0.0 \n",
      "0.496822 0.21 6.0 3.0 10.0 \n",
      "0.496724 0.03 9.0 2.0 4.0 \n",
      "0.496513 0.04 4.0 9.0 1.0 \n",
      "0.496362 0.03 3.0 8.0 7.0 \n",
      "0.496060 0.05 4.0 7.0 8.0 \n",
      "0.496000 0.66 3.0 9.0 4.0 \n",
      "0.495225 0.00 9.0 0.0 5.0 \n",
      "0.495045 0.13 3.0 4.0 12.0 \n",
      "0.494443 0.27 6.0 6.0 7.0 \n",
      "0.494317 0.53 4.0 8.0 6.0 \n",
      "0.493944 0.14 2.0 3.0 13.0 \n",
      "0.493905 0.04 4.0 3.0 12.0 \n",
      "0.493860 0.43 1.0 5.0 12.0 \n",
      "0.493170 0.08 9.0 3.0 3.0 \n",
      "0.493134 0.08 3.0 2.0 13.0 \n",
      "0.493010 0.02 3.0 7.0 9.0 \n",
      "0.492920 0.04 0.0 10.0 0.0 \n",
      "0.492744 0.01 9.0 1.0 5.0 \n",
      "0.492697 0.03 4.0 9.0 2.0 \n",
      "0.492636 0.00 0.0 0.0 14.0 \n",
      "0.492610 0.20 6.0 7.0 5.0 \n",
      "0.491805 0.03 1.0 9.0 6.0 \n",
      "0.491666 0.05 0.0 10.0 1.0 \n",
      "0.491289 0.02 5.0 7.0 7.0 \n",
      "0.490766 0.59 8.0 0.0 8.0 \n",
      "0.490722 0.04 7.0 4.0 8.0 \n",
      "0.490589 0.01 2.0 8.0 8.0 \n",
      "0.490530 0.00 7.0 6.0 5.0 \n",
      "0.490315 0.00 1.0 10.0 0.0 \n",
      "0.490123 0.00 1.0 7.0 10.0 \n",
      "0.490080 0.01 6.0 1.0 11.0 \n",
      "0.489972 0.07 7.0 7.0 0.0 \n",
      "0.489598 0.14 8.0 5.0 4.0 \n",
      "0.489081 0.03 1.0 10.0 1.0 \n"
     ]
    }
   ],
   "source": [
    "%cat {fn_jcpds}"
   ]
  },
  {
   "cell_type": "markdown",
   "metadata": {},
   "source": [
    "# Read back the written JCPDS for test"
   ]
  },
  {
   "cell_type": "code",
   "execution_count": 28,
   "metadata": {},
   "outputs": [],
   "source": [
    "material_test = ds_jcpds.JCPDS(filename = fn_jcpds)"
   ]
  },
  {
   "cell_type": "markdown",
   "metadata": {},
   "source": [
    "Calculate a pattern at a pressure"
   ]
  },
  {
   "cell_type": "code",
   "execution_count": 29,
   "metadata": {},
   "outputs": [],
   "source": [
    "material_test.cal_dsp(pressure = 100.)\n",
    "material_test.get_DiffractionLines()\n",
    "tth, inten = material_test.get_tthVSint(wl_xray)"
   ]
  },
  {
   "cell_type": "code",
   "execution_count": 30,
   "metadata": {},
   "outputs": [
    {
     "data": {
      "image/png": "[encoded data removed]",
      "text/plain": [
       "<Figure size 576x216 with 1 Axes>"
      ]
     },
     "metadata": {
      "image/png": {
       "height": 190,
       "width": 482
      },
      "needs_background": "light"
     },
     "output_type": "display_data"
    }
   ],
   "source": [
    "f = plt.figure(figsize=(8,3))\n",
    "plt.vlines(diff_lines[:,0], 0., diff_lines[:,2], color='b', label='0 GPa')\n",
    "plt.vlines(tth, 0., inten, color = 'r', label='100 GPa')\n",
    "plt.legend();"
   ]
  },
  {
   "cell_type": "code",
   "execution_count": null,
   "metadata": {},
   "outputs": [],
   "source": []
  }
 ],
 "metadata": {
  "anaconda-cloud": {},
  "kernelspec": {
   "display_name": "pkpo2018",
   "language": "python",
   "name": "pkpo2018"
  },
  "language_info": {
   "codemirror_mode": {
    "name": "ipython",
    "version": 3
   },
   "file_extension": ".py",
   "mimetype": "text/x-python",
   "name": "python",
   "nbconvert_exporter": "python",
   "pygments_lexer": "ipython3",
   "version": "3.6.6"
  },
  "latex_envs": {
   "LaTeX_envs_menu_present": true,
   "autocomplete": true,
   "bibliofile": "biblio.bib",
   "cite_by": "apalike",
   "current_citInitial": 1,
   "eqLabelWithNumbers": true,
   "eqNumInitial": 0,
   "hotkeys": {
    "equation": "Ctrl-E",
    "itemize": "Ctrl-I"
   },
   "labels_anchors": false,
   "latex_user_defs": false,
   "report_style_numbering": false,
   "user_envs_cfg": false
  },
  "nav_menu": {},
  "toc": {
   "navigate_menu": true,
   "number_sections": true,
   "sideBar": true,
   "threshold": 6,
   "toc_cell": false,
   "toc_section_display": "block",
   "toc_window_display": false
  }
 },
 "nbformat": 4,
 "nbformat_minor": 4
}
