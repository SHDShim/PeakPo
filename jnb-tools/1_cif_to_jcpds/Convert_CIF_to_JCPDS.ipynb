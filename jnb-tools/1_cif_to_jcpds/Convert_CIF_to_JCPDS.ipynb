{
 "cells": [
  {
   "cell_type": "markdown",
   "metadata": {},
   "source": [
    "# Convert CIF to JCPDS"
   ]
  },
  {
   "cell_type": "markdown",
   "metadata": {},
   "source": [
    "* This notebook shows how to calculate a theoretical diffraction pattern  using `pymatgen`.  \n",
    "* This also aims to show how to read `CIF` files, convert them to `JCPDS`.  \n",
    "* Note that `ds_jcpds` is differernt from that in `PeakPo`, but it produces readable jcpds for PeakPo.  \n",
    "* Some `jcpds` files can be downloaded from: https://github.com/SHDShim/JCPDS"
   ]
  },
  {
   "cell_type": "code",
   "execution_count": 1,
   "metadata": {},
   "outputs": [],
   "source": [
    "%matplotlib inline"
   ]
  },
  {
   "cell_type": "markdown",
   "metadata": {},
   "source": [
    "## What is CIF file\n",
    "\n",
    "https://en.wikipedia.org/wiki/Crystallographic_Information_File\n",
    "\n"
   ]
  },
  {
   "cell_type": "code",
   "execution_count": 2,
   "metadata": {},
   "outputs": [
    {
     "name": "stdout",
     "output_type": "stream",
     "text": [
      "./cif/MgSiO3_bm.cif\n"
     ]
    }
   ],
   "source": [
    "%ls ./cif/*.cif"
   ]
  },
  {
   "cell_type": "code",
   "execution_count": 3,
   "metadata": {},
   "outputs": [
    {
     "name": "stdout",
     "output_type": "stream",
     "text": [
      "data_global\n",
      "_chemical_name_mineral 'Bridgmanite'\n",
      "loop_\n",
      "_publ_author_name\n",
      "'Horiuchi H'\n",
      "'Ito E'\n",
      "'Weidner D J'\n",
      "_journal_name_full 'American Mineralogist'\n",
      "_journal_volume 72 \n",
      "_journal_year 1987\n",
      "_journal_page_first 357\n",
      "_journal_page_last 360\n",
      "_publ_section_title\n",
      ";\n",
      " Perovskite-type MgSiO3: Single-crystal X-ray diffraction study\n",
      ";\n",
      "_database_code_amcsd 0001071\n",
      "_chemical_compound_source 'Synthetic'\n",
      "_chemical_formula_sum 'Mg Si O3'\n",
      "_cell_length_a 4.7754\n",
      "_cell_length_b 4.9292\n",
      "_cell_length_c 6.8969\n",
      "_cell_angle_alpha 90\n",
      "_cell_angle_beta 90\n",
      "_cell_angle_gamma 90\n",
      "_cell_volume 162.345\n",
      "_exptl_crystal_density_diffrn      4.107\n",
      "_symmetry_space_group_name_H-M 'P b n m'\n",
      "loop_\n",
      "_space_group_symop_operation_xyz\n",
      "  'x,y,z'\n",
      "  'x,y,1/2-z'\n",
      "  '-x,-y,1/2+z'\n",
      "  '1/2+x,1/2-y,1/2+z'\n",
      "  '1/2-x,1/2+y,1/2-z'\n",
      "  '1/2-x,1/2+y,z'\n",
      "  '1/2+x,1/2-y,-z'\n",
      "  '-x,-y,-z'\n",
      "loop_\n",
      "_atom_site_label\n",
      "_atom_site_fract_x\n",
      "_atom_site_fract_y\n",
      "_atom_site_fract_z\n",
      "Mg   0.51410   0.55600   0.25000\n",
      "Si   0.50000   0.00000   0.50000\n",
      "O1   0.10280   0.46600   0.25000\n",
      "O2   0.19610   0.20140   0.55310\n",
      "loop_\n",
      "_atom_site_aniso_label\n",
      "_atom_site_aniso_U_11\n",
      "_atom_site_aniso_U_22\n",
      "_atom_site_aniso_U_33\n",
      "_atom_site_aniso_U_12\n",
      "_atom_site_aniso_U_13\n",
      "_atom_site_aniso_U_23\n",
      "Mg 0.00555 0.00565 0.00619 0.00052 0.00000 0.00000\n",
      "Si 0.00342 0.00367 0.00241 -0.00005 0.00003 -0.00016\n",
      "O1 0.00434 0.00581 0.00217 0.00013 0.00000 0.00000\n",
      "O2 0.00430 0.00449 0.00431 0.00083 0.00048 0.00083\n",
      "\n"
     ]
    }
   ],
   "source": [
    "%cat ./cif/MgSiO3_bm.cif"
   ]
  },
  {
   "cell_type": "markdown",
   "metadata": {},
   "source": [
    "## What is a JCPDS file\n",
    "\n",
    "What is lacking in cif?"
   ]
  },
  {
   "cell_type": "code",
   "execution_count": 4,
   "metadata": {},
   "outputs": [],
   "source": [
    "import numpy as np\n",
    "import pandas as pd\n",
    "import matplotlib.pyplot as plt"
   ]
  },
  {
   "cell_type": "markdown",
   "metadata": {},
   "source": [
    "## What is `pymatgen`?\n",
    "\n",
    "https://pymatgen.org"
   ]
  },
  {
   "cell_type": "code",
   "execution_count": 5,
   "metadata": {},
   "outputs": [],
   "source": [
    "import pymatgen as mg\n",
    "from pymatgen import Lattice, Structure\n",
    "from pymatgen.analysis.diffraction.xrd import XRDCalculator\n",
    "from pymatgen.symmetry.analyzer import SpacegroupAnalyzer"
   ]
  },
  {
   "cell_type": "code",
   "execution_count": 6,
   "metadata": {},
   "outputs": [
    {
     "data": {
      "text/plain": [
       "'2019.4.11'"
      ]
     },
     "execution_count": 6,
     "metadata": {},
     "output_type": "execute_result"
    }
   ],
   "source": [
    "mg.__version__"
   ]
  },
  {
   "cell_type": "markdown",
   "metadata": {},
   "source": [
    "This works with `pymatgen` version `2019.4.11`."
   ]
  },
  {
   "cell_type": "markdown",
   "metadata": {},
   "source": [
    "`ds_jcpds` is written by Dan Shim for making a jcpds file."
   ]
  },
  {
   "cell_type": "code",
   "execution_count": 7,
   "metadata": {},
   "outputs": [
    {
     "name": "stdout",
     "output_type": "stream",
     "text": [
      "PeakPo.icns          \u001b[1m\u001b[34mds_cake\u001b[m\u001b[m/             peakpo-mac.spec\n",
      "\u001b[1m\u001b[32mPeakPo.ico\u001b[m\u001b[m*          \u001b[1m\u001b[34mds_jcpds\u001b[m\u001b[m/            peakpo-win.spec\n",
      "__init__.py          \u001b[1m\u001b[34mds_powdiff\u001b[m\u001b[m/          peakpo.py\n",
      "__main__.py          \u001b[1m\u001b[34mds_section\u001b[m\u001b[m/          \u001b[1m\u001b[34mtemporary_pkpo\u001b[m\u001b[m/\n",
      "\u001b[1m\u001b[34m__pycache__\u001b[m\u001b[m/         dum.ppss             \u001b[1m\u001b[34mutils\u001b[m\u001b[m/\n",
      "\u001b[1m\u001b[34mbuild\u001b[m\u001b[m/               error.log            version.py\n",
      "citation.py          \u001b[1m\u001b[34mmodel\u001b[m\u001b[m/               \u001b[1m\u001b[34mview\u001b[m\u001b[m/\n",
      "\u001b[1m\u001b[34mcontrol\u001b[m\u001b[m/             \u001b[1m\u001b[34mmplstyle\u001b[m\u001b[m/\n",
      "\u001b[1m\u001b[34mdist\u001b[m\u001b[m/                peakpo-mac-app.spec\n"
     ]
    }
   ],
   "source": [
    "%ls ../../peakpo"
   ]
  },
  {
   "cell_type": "code",
   "execution_count": 8,
   "metadata": {},
   "outputs": [],
   "source": [
    "import sys\n",
    "sys.path.append('../../peakpo/')\n",
    "sys.path.append('../local_modules/')\n",
    "import ds_jcpds\n",
    "import quick_plots as quick"
   ]
  },
  {
   "cell_type": "markdown",
   "metadata": {},
   "source": [
    "## Input parameters"
   ]
  },
  {
   "cell_type": "code",
   "execution_count": 9,
   "metadata": {},
   "outputs": [
    {
     "name": "stdout",
     "output_type": "stream",
     "text": [
      "MgSiO3_bm.cif\n"
     ]
    }
   ],
   "source": [
    "%ls ./cif/"
   ]
  },
  {
   "cell_type": "code",
   "execution_count": 10,
   "metadata": {},
   "outputs": [],
   "source": [
    "fn_cif = \"./cif/MgSiO3_bm.cif\"\n",
    "fn_jcpds = './jcpds/MgSiO3-bm.jcpds'\n",
    "comments_jcpds = \"Bridgmanite\""
   ]
  },
  {
   "cell_type": "markdown",
   "metadata": {},
   "source": [
    "Parameters for the equation of state of bridgmanite."
   ]
  },
  {
   "cell_type": "code",
   "execution_count": 11,
   "metadata": {},
   "outputs": [],
   "source": [
    "k0 = 260. # 200.\n",
    "k0p = 4.00 # 4.\n",
    "alpha = 3.16e-5 # 1.e-5"
   ]
  },
  {
   "cell_type": "code",
   "execution_count": 12,
   "metadata": {},
   "outputs": [],
   "source": [
    "wl_xray = 0.3344\n",
    "xrange = (0,40)"
   ]
  },
  {
   "cell_type": "markdown",
   "metadata": {},
   "source": [
    "## Read CIF"
   ]
  },
  {
   "cell_type": "markdown",
   "metadata": {},
   "source": [
    "The `cif` file below was downloaded from American mineralogist crystal structure database."
   ]
  },
  {
   "cell_type": "code",
   "execution_count": 13,
   "metadata": {
    "run_control": {
     "marked": true
    }
   },
   "outputs": [],
   "source": [
    "material = mg.Structure.from_file(fn_cif)"
   ]
  },
  {
   "cell_type": "markdown",
   "metadata": {},
   "source": [
    "## Get some parameters in CIF"
   ]
  },
  {
   "cell_type": "code",
   "execution_count": 14,
   "metadata": {},
   "outputs": [
    {
     "name": "stdout",
     "output_type": "stream",
     "text": [
      "Unit-cell volume =  162.345450996792\n",
      "Density =  4.107275060713392 g cm^-3\n",
      "Chemical formula =  Mg4 Si4 O12\n"
     ]
    }
   ],
   "source": [
    "print('Unit-cell volume = ', material.volume)\n",
    "print('Density = ', material.density)\n",
    "print('Chemical formula = ', material.formula)"
   ]
  },
  {
   "cell_type": "code",
   "execution_count": 15,
   "metadata": {},
   "outputs": [
    {
     "name": "stdout",
     "output_type": "stream",
     "text": [
      "Lattice parameters =  4.7754 4.9292 6.8969 90.0 90.0 90.0\n",
      "orthorhombic\n"
     ]
    }
   ],
   "source": [
    "lattice = material.lattice\n",
    "print('Lattice parameters = ', lattice.a, lattice.b, lattice.c, \\\n",
    "      lattice.alpha, lattice.beta, lattice.gamma)\n",
    "crystal_system = SpacegroupAnalyzer(material).get_crystal_system()\n",
    "print(crystal_system)"
   ]
  },
  {
   "cell_type": "markdown",
   "metadata": {},
   "source": [
    "## Get diffraction pattern"
   ]
  },
  {
   "cell_type": "code",
   "execution_count": 16,
   "metadata": {},
   "outputs": [],
   "source": [
    "c = XRDCalculator(wavelength=wl_xray)"
   ]
  },
  {
   "cell_type": "code",
   "execution_count": 17,
   "metadata": {},
   "outputs": [],
   "source": [
    "pattern = c.get_pattern(material, two_theta_range = xrange)"
   ]
  },
  {
   "cell_type": "markdown",
   "metadata": {},
   "source": [
    "## Extract twotheta, d-sp, int, hkl"
   ]
  },
  {
   "cell_type": "code",
   "execution_count": 18,
   "metadata": {},
   "outputs": [
    {
     "data": {
      "text/plain": [
       "(1, 0, 1)"
      ]
     },
     "execution_count": 18,
     "metadata": {},
     "output_type": "execute_result"
    }
   ],
   "source": [
    "pattern.hkls[0][0]['hkl']"
   ]
  },
  {
   "cell_type": "code",
   "execution_count": 19,
   "metadata": {},
   "outputs": [
    {
     "data": {
      "text/plain": [
       "722"
      ]
     },
     "execution_count": 19,
     "metadata": {},
     "output_type": "execute_result"
    }
   ],
   "source": [
    "pattern.hkls.__len__()"
   ]
  },
  {
   "cell_type": "code",
   "execution_count": 20,
   "metadata": {},
   "outputs": [],
   "source": [
    "h = []; k = []; l = []\n",
    "for i in range(pattern.hkls.__len__()):\n",
    "    h.append(pattern.hkls[i][0]['hkl'][0])\n",
    "    k.append(pattern.hkls[i][0]['hkl'][1])\n",
    "    l.append(pattern.hkls[i][0]['hkl'][2])"
   ]
  },
  {
   "cell_type": "code",
   "execution_count": 21,
   "metadata": {},
   "outputs": [
    {
     "name": "stdout",
     "output_type": "stream",
     "text": [
      "[5.55821414 3.44845    8.23481259 0.         0.         2.        ]\n"
     ]
    }
   ],
   "source": [
    "d_lines = [pattern.x, pattern.d_hkls, pattern.y, h, k, l ]\n",
    "diff_lines = np.transpose(np.asarray(d_lines))\n",
    "print(diff_lines[1,:])"
   ]
  },
  {
   "cell_type": "markdown",
   "metadata": {},
   "source": [
    "## Table output"
   ]
  },
  {
   "cell_type": "markdown",
   "metadata": {},
   "source": [
    "We can make a nice looking table using the `pandas` package.  `pandas` is more than looking-good table producer.  It is a powerful statistics package popular in data science."
   ]
  },
  {
   "cell_type": "code",
   "execution_count": 22,
   "metadata": {},
   "outputs": [
    {
     "data": {
      "text/html": [
       "<div>\n",
       "<style scoped>\n",
       "    .dataframe tbody tr th:only-of-type {\n",
       "        vertical-align: middle;\n",
       "    }\n",
       "\n",
       "    .dataframe tbody tr th {\n",
       "        vertical-align: top;\n",
       "    }\n",
       "\n",
       "    .dataframe thead th {\n",
       "        text-align: right;\n",
       "    }\n",
       "</style>\n",
       "<table border=\"1\" class=\"dataframe\">\n",
       "  <thead>\n",
       "    <tr style=\"text-align: right;\">\n",
       "      <th></th>\n",
       "      <th>Two Theta</th>\n",
       "      <th>d-spacing</th>\n",
       "      <th>intensity</th>\n",
       "      <th>h</th>\n",
       "      <th>k</th>\n",
       "      <th>l</th>\n",
       "    </tr>\n",
       "  </thead>\n",
       "  <tbody>\n",
       "    <tr>\n",
       "      <th>0</th>\n",
       "      <td>4.881525</td>\n",
       "      <td>3.926131</td>\n",
       "      <td>0.815361</td>\n",
       "      <td>1.0</td>\n",
       "      <td>0.0</td>\n",
       "      <td>1.0</td>\n",
       "    </tr>\n",
       "    <tr>\n",
       "      <th>1</th>\n",
       "      <td>5.558214</td>\n",
       "      <td>3.448450</td>\n",
       "      <td>8.234813</td>\n",
       "      <td>0.0</td>\n",
       "      <td>0.0</td>\n",
       "      <td>2.0</td>\n",
       "    </tr>\n",
       "    <tr>\n",
       "      <th>2</th>\n",
       "      <td>5.588459</td>\n",
       "      <td>3.429802</td>\n",
       "      <td>20.916571</td>\n",
       "      <td>1.0</td>\n",
       "      <td>1.0</td>\n",
       "      <td>0.0</td>\n",
       "    </tr>\n",
       "    <tr>\n",
       "      <th>3</th>\n",
       "      <td>6.241956</td>\n",
       "      <td>3.071022</td>\n",
       "      <td>8.938528</td>\n",
       "      <td>1.0</td>\n",
       "      <td>1.0</td>\n",
       "      <td>1.0</td>\n",
       "    </tr>\n",
       "    <tr>\n",
       "      <th>4</th>\n",
       "      <td>7.779938</td>\n",
       "      <td>2.464600</td>\n",
       "      <td>24.497625</td>\n",
       "      <td>0.0</td>\n",
       "      <td>2.0</td>\n",
       "      <td>0.0</td>\n",
       "    </tr>\n",
       "  </tbody>\n",
       "</table>\n",
       "</div>"
      ],
      "text/plain": [
       "   Two Theta  d-spacing  intensity    h    k    l\n",
       "0   4.881525   3.926131   0.815361  1.0  0.0  1.0\n",
       "1   5.558214   3.448450   8.234813  0.0  0.0  2.0\n",
       "2   5.588459   3.429802  20.916571  1.0  1.0  0.0\n",
       "3   6.241956   3.071022   8.938528  1.0  1.0  1.0\n",
       "4   7.779938   2.464600  24.497625  0.0  2.0  0.0"
      ]
     },
     "execution_count": 22,
     "metadata": {},
     "output_type": "execute_result"
    }
   ],
   "source": [
    "table = pd.DataFrame(data = diff_lines,    # values\n",
    "    columns=['Two Theta', 'd-spacing', 'intensity', 'h', 'k', 'l'])  # 1st row as the column names\n",
    "table.head()"
   ]
  },
  {
   "cell_type": "markdown",
   "metadata": {},
   "source": [
    "## Plot peak positions generated from pymatgen"
   ]
  },
  {
   "cell_type": "code",
   "execution_count": 23,
   "metadata": {},
   "outputs": [
    {
     "ename": "TypeError",
     "evalue": "plot_diffpattern() takes 2 positional arguments but 3 were given",
     "output_type": "error",
     "traceback": [
      "\u001b[0;31m---------------------------------------------------------------------------\u001b[0m",
      "\u001b[0;31mTypeError\u001b[0m                                 Traceback (most recent call last)",
      "\u001b[0;32m<ipython-input-23-b0416a8b11f3>\u001b[0m in \u001b[0;36m<module>\u001b[0;34m\u001b[0m\n\u001b[1;32m      1\u001b[0m \u001b[0mf\u001b[0m\u001b[0;34m,\u001b[0m \u001b[0max\u001b[0m \u001b[0;34m=\u001b[0m \u001b[0mplt\u001b[0m\u001b[0;34m.\u001b[0m\u001b[0msubplots\u001b[0m\u001b[0;34m(\u001b[0m\u001b[0mfigsize\u001b[0m\u001b[0;34m=\u001b[0m\u001b[0;34m(\u001b[0m\u001b[0;36m8\u001b[0m\u001b[0;34m,\u001b[0m\u001b[0;36m3\u001b[0m\u001b[0;34m)\u001b[0m\u001b[0;34m)\u001b[0m\u001b[0;34m\u001b[0m\u001b[0m\n\u001b[0;32m----> 2\u001b[0;31m \u001b[0mquick\u001b[0m\u001b[0;34m.\u001b[0m\u001b[0mplot_diffpattern\u001b[0m\u001b[0;34m(\u001b[0m\u001b[0max\u001b[0m\u001b[0;34m,\u001b[0m \u001b[0;34m[\u001b[0m\u001b[0;36m0\u001b[0m\u001b[0;34m]\u001b[0m\u001b[0;34m,\u001b[0m \u001b[0;34m[\u001b[0m\u001b[0;36m0\u001b[0m\u001b[0;34m]\u001b[0m\u001b[0;34m)\u001b[0m\u001b[0;34m\u001b[0m\u001b[0m\n\u001b[0m\u001b[1;32m      3\u001b[0m \u001b[0max\u001b[0m\u001b[0;34m.\u001b[0m\u001b[0mvlines\u001b[0m\u001b[0;34m(\u001b[0m\u001b[0mdiff_lines\u001b[0m\u001b[0;34m[\u001b[0m\u001b[0;34m:\u001b[0m\u001b[0;34m,\u001b[0m\u001b[0;36m0\u001b[0m\u001b[0;34m]\u001b[0m\u001b[0;34m,\u001b[0m \u001b[0;36m0.\u001b[0m\u001b[0;34m,\u001b[0m \u001b[0mdiff_lines\u001b[0m\u001b[0;34m[\u001b[0m\u001b[0;34m:\u001b[0m\u001b[0;34m,\u001b[0m\u001b[0;36m2\u001b[0m\u001b[0;34m]\u001b[0m\u001b[0;34m,\u001b[0m \u001b[0mcolor\u001b[0m\u001b[0;34m=\u001b[0m\u001b[0;34m'b'\u001b[0m\u001b[0;34m)\u001b[0m\u001b[0;34m;\u001b[0m\u001b[0;34m\u001b[0m\u001b[0m\n",
      "\u001b[0;31mTypeError\u001b[0m: plot_diffpattern() takes 2 positional arguments but 3 were given"
     ]
    },
    {
     "data": {
      "image/png": "[encoded data removed]",
      "text/plain": [
       "<Figure size 576x216 with 1 Axes>"
      ]
     },
     "metadata": {
      "image/png": {
       "height": 194,
       "width": 485
      },
      "needs_background": "light"
     },
     "output_type": "display_data"
    }
   ],
   "source": [
    "f, ax = plt.subplots(figsize=(8,3))\n",
    "quick.plot_diffpattern(ax, [0], [0])\n",
    "ax.vlines(diff_lines[:,0], 0., diff_lines[:,2], color='b');"
   ]
  },
  {
   "cell_type": "markdown",
   "metadata": {},
   "source": [
    "## Convert to JCPDS"
   ]
  },
  {
   "cell_type": "markdown",
   "metadata": {},
   "source": [
    "Setup an `jcpds` object from a `cif` file"
   ]
  },
  {
   "cell_type": "code",
   "execution_count": null,
   "metadata": {},
   "outputs": [],
   "source": [
    "material_jcpds = ds_jcpds.JCPDS()\n",
    "material_jcpds.set_from_cif(fn_cif, k0, k0p, \\\n",
    "                      thermal_expansion=alpha, \n",
    "                        two_theta_range=xrange)"
   ]
  },
  {
   "cell_type": "markdown",
   "metadata": {},
   "source": [
    "Calculate diffraction pattern at a pressure."
   ]
  },
  {
   "cell_type": "code",
   "execution_count": null,
   "metadata": {},
   "outputs": [],
   "source": [
    "material_jcpds.cal_dsp(pressure = 100.)\n",
    "dl = material_jcpds.get_DiffractionLines()\n",
    "tth, inten = material_jcpds.get_tthVSint(wl_xray)"
   ]
  },
  {
   "cell_type": "code",
   "execution_count": null,
   "metadata": {},
   "outputs": [],
   "source": [
    "f, ax = plt.subplots(2, 1, figsize=(7,3), sharex=True)\n",
    "ax[0].vlines(diff_lines[:,0], 0., diff_lines[:,2], color='b')\n",
    "ax[1].vlines(tth, 0., inten, color = 'r')\n",
    "ax[0].set_xlim(7.5,9)"
   ]
  },
  {
   "cell_type": "markdown",
   "metadata": {},
   "source": [
    "## Save to a JCPDS file"
   ]
  },
  {
   "cell_type": "code",
   "execution_count": null,
   "metadata": {},
   "outputs": [],
   "source": [
    "material_jcpds.write_to_file(fn_jcpds, comments=comments_jcpds)"
   ]
  },
  {
   "cell_type": "code",
   "execution_count": null,
   "metadata": {},
   "outputs": [],
   "source": [
    "%cat {fn_jcpds}"
   ]
  },
  {
   "cell_type": "markdown",
   "metadata": {},
   "source": [
    "# Read back the written JCPDS for test"
   ]
  },
  {
   "cell_type": "code",
   "execution_count": null,
   "metadata": {},
   "outputs": [],
   "source": [
    "material_test = ds_jcpds.JCPDS(filename = fn_jcpds)"
   ]
  },
  {
   "cell_type": "markdown",
   "metadata": {},
   "source": [
    "Calculate a pattern at a pressure"
   ]
  },
  {
   "cell_type": "code",
   "execution_count": null,
   "metadata": {},
   "outputs": [],
   "source": [
    "material_test.cal_dsp(pressure = 100.)\n",
    "material_test.get_DiffractionLines()\n",
    "tth, inten = material_test.get_tthVSint(wl_xray)"
   ]
  },
  {
   "cell_type": "code",
   "execution_count": null,
   "metadata": {},
   "outputs": [],
   "source": [
    "f = plt.figure(figsize=(8,3))\n",
    "plt.vlines(diff_lines[:,0], 0., diff_lines[:,2], color='b', label='0 GPa')\n",
    "plt.vlines(tth, 0., inten, color = 'r', label='100 GPa')\n",
    "plt.legend();"
   ]
  },
  {
   "cell_type": "code",
   "execution_count": null,
   "metadata": {},
   "outputs": [],
   "source": []
  }
 ],
 "metadata": {
  "anaconda-cloud": {},
  "kernelspec": {
   "display_name": "Python 3",
   "language": "python",
   "name": "python3"
  },
  "language_info": {
   "codemirror_mode": {
    "name": "ipython",
    "version": 3
   },
   "file_extension": ".py",
   "mimetype": "text/x-python",
   "name": "python",
   "nbconvert_exporter": "python",
   "pygments_lexer": "ipython3",
   "version": "3.7.0"
  },
  "latex_envs": {
   "LaTeX_envs_menu_present": true,
   "autocomplete": true,
   "bibliofile": "biblio.bib",
   "cite_by": "apalike",
   "current_citInitial": 1,
   "eqLabelWithNumbers": true,
   "eqNumInitial": 0,
   "hotkeys": {
    "equation": "Ctrl-E",
    "itemize": "Ctrl-I"
   },
   "labels_anchors": false,
   "latex_user_defs": false,
   "report_style_numbering": false,
   "user_envs_cfg": false
  },
  "nav_menu": {},
  "toc": {
   "navigate_menu": true,
   "number_sections": true,
   "sideBar": true,
   "threshold": 6,
   "toc_cell": false,
   "toc_section_display": "block",
   "toc_window_display": false
  }
 },
 "nbformat": 4,
 "nbformat_minor": 4
}
