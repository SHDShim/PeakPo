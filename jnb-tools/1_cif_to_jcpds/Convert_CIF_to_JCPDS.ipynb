{
 "cells": [
  {
   "cell_type": "code",
   "execution_count": 48,
   "metadata": {},
   "outputs": [],
   "source": [
    "%matplotlib inline"
   ]
  },
  {
   "cell_type": "code",
   "execution_count": 49,
   "metadata": {},
   "outputs": [],
   "source": [
    "import numpy as np\n",
    "import pandas as pd\n",
    "import matplotlib.pyplot as plt"
   ]
  },
  {
   "cell_type": "code",
   "execution_count": 50,
   "metadata": {},
   "outputs": [],
   "source": [
    "import pymatgen as mg\n",
    "from pymatgen import Lattice, Structure\n",
    "from pymatgen.analysis.diffraction.xrd import XRDCalculator\n",
    "from pymatgen.symmetry.analyzer import SpacegroupAnalyzer"
   ]
  },
  {
   "cell_type": "markdown",
   "metadata": {},
   "source": [
    "# Convert CIF to JCPDS"
   ]
  },
  {
   "cell_type": "markdown",
   "metadata": {},
   "source": [
    "## Input parameters\n",
    "\n",
    "`cif` should exist in the `./cif` folder.  \n",
    "`jcpds` will be created in the `./jcpds` folder."
   ]
  },
  {
   "cell_type": "code",
   "execution_count": 51,
   "metadata": {},
   "outputs": [
    {
     "name": "stdout",
     "output_type": "stream",
     "text": [
      "Fe25O32_80GPa.cif           MgSiO3_bm.cif\n",
      "Fe2S.cif                    Ni2S.cif\n",
      "Fe4O5_10GPa.cif             Ni3S2.cif\n",
      "Fe5O6_11GPa.cif             eta-Fe2O3_64GPa.cif\n",
      "Fe5O7_41GPa.cif             eta-Fe2O3_74GPa.cif\n",
      "FeS2_mp-1522_primitive.cif  iota-Fe2O3_40.7GPa.cif\n",
      "HP-Fe3O4_44GPa.cif          theta-Fe2O3_ 74GPa.cif\n"
     ]
    }
   ],
   "source": [
    "%ls ./cif"
   ]
  },
  {
   "cell_type": "code",
   "execution_count": 52,
   "metadata": {},
   "outputs": [],
   "source": [
    "cif_name = 'FeS2_mp-1522_primitive'"
   ]
  },
  {
   "cell_type": "markdown",
   "metadata": {},
   "source": [
    "Make changes for your phase."
   ]
  },
  {
   "cell_type": "code",
   "execution_count": 53,
   "metadata": {},
   "outputs": [],
   "source": [
    "k0 = 200. # 200.\n",
    "k0p = 4.00 # 4.\n",
    "alpha = 3.16e-5 # 1.e-5"
   ]
  },
  {
   "cell_type": "code",
   "execution_count": 54,
   "metadata": {},
   "outputs": [],
   "source": [
    "fn_cif = \"./cif/\"+cif_name+'.cif'\n",
    "fn_jcpds = './jcpds/'+cif_name+'.jcpds'\n",
    "comments_jcpds = cif_name"
   ]
  },
  {
   "cell_type": "markdown",
   "metadata": {},
   "source": [
    "<font color='red'> __(NOTE)__ Make sure _symmetry_space_group_name_H-M is not `P1` below. </font>"
   ]
  },
  {
   "cell_type": "code",
   "execution_count": 79,
   "metadata": {},
   "outputs": [
    {
     "name": "stdout",
     "output_type": "stream",
     "text": [
      "# generated using pymatgen\n",
      "data_FeS2\n",
      "_symmetry_space_group_name_H-M   'P 1'\n",
      "_cell_length_a   3.38461958\n",
      "_cell_length_b   4.44069755\n",
      "_cell_length_c   5.40650212\n",
      "_cell_angle_alpha   90.00000000\n",
      "_cell_angle_beta   90.00000000\n",
      "_cell_angle_gamma   90.00000000\n",
      "_symmetry_Int_Tables_number   1\n"
     ]
    }
   ],
   "source": [
    "!head {fn_cif}"
   ]
  },
  {
   "cell_type": "markdown",
   "metadata": {},
   "source": [
    "Parameters for the equation of state of bridgmanite."
   ]
  },
  {
   "cell_type": "markdown",
   "metadata": {},
   "source": [
    "<font color='red'> __(NOTE)__ Make sure pymatgen version is later than 2019.4.11. </font>"
   ]
  },
  {
   "cell_type": "code",
   "execution_count": 56,
   "metadata": {},
   "outputs": [
    {
     "name": "stdout",
     "output_type": "stream",
     "text": [
      "2019.7.30\n"
     ]
    }
   ],
   "source": [
    "print(mg.__version__)"
   ]
  },
  {
   "cell_type": "code",
   "execution_count": 57,
   "metadata": {},
   "outputs": [],
   "source": [
    "wl_xray = 0.3344\n",
    "xrange = (0,40)"
   ]
  },
  {
   "cell_type": "code",
   "execution_count": 85,
   "metadata": {},
   "outputs": [],
   "source": [
    "verbose = True"
   ]
  },
  {
   "cell_type": "code",
   "execution_count": 86,
   "metadata": {},
   "outputs": [],
   "source": [
    "import sys\n",
    "sys.path.append('../../peakpo/')\n",
    "sys.path.append('../local_modules/')\n",
    "import ds_jcpds\n",
    "import quick_plots as quick"
   ]
  },
  {
   "cell_type": "markdown",
   "metadata": {},
   "source": [
    "## Read CIF"
   ]
  },
  {
   "cell_type": "markdown",
   "metadata": {},
   "source": [
    "The `cif` file below was downloaded from American mineralogist crystal structure database."
   ]
  },
  {
   "cell_type": "code",
   "execution_count": 87,
   "metadata": {
    "run_control": {
     "marked": true
    }
   },
   "outputs": [],
   "source": [
    "material = mg.Structure.from_file(fn_cif)"
   ]
  },
  {
   "cell_type": "markdown",
   "metadata": {},
   "source": [
    "## Get some parameters in CIF"
   ]
  },
  {
   "cell_type": "code",
   "execution_count": 88,
   "metadata": {},
   "outputs": [
    {
     "name": "stdout",
     "output_type": "stream",
     "text": [
      "Full Formula (Fe2 S4)\n",
      "Reduced Formula: FeS2\n",
      "abc   :   3.384620   4.440698   5.406502\n",
      "angles:  90.000000  90.000000  90.000000\n",
      "Sites (6)\n",
      "  #  SP      a         b         c\n",
      "---  ----  ---  --------  --------\n",
      "  0  Fe    0    0         0\n",
      "  1  Fe    0.5  0.5       0.5\n",
      "  2  S     0.5  0.293782  0.875173\n",
      "  3  S     0    0.206218  0.375173\n",
      "  4  S     0.5  0.706218  0.124827\n",
      "  5  S     0    0.793782  0.624827\n"
     ]
    }
   ],
   "source": [
    "if verbose:\n",
    "    print(material )"
   ]
  },
  {
   "cell_type": "code",
   "execution_count": 89,
   "metadata": {},
   "outputs": [
    {
     "name": "stdout",
     "output_type": "stream",
     "text": [
      "Lattice parameters =  3.38461958 4.44069755 5.40650212 90.0 90.0 90.0\n",
      "orthorhombic\n"
     ]
    }
   ],
   "source": [
    "lattice = material.lattice\n",
    "if verbose:\n",
    "    print('Lattice parameters = ', lattice.a, lattice.b, lattice.c, \\\n",
    "          lattice.alpha, lattice.beta, lattice.gamma)\n",
    "crystal_system = SpacegroupAnalyzer(material).get_crystal_system()\n",
    "if verbose:\n",
    "    print(crystal_system)"
   ]
  },
  {
   "cell_type": "code",
   "execution_count": 91,
   "metadata": {},
   "outputs": [
    {
     "data": {
      "text/plain": [
       "'Pnnm'"
      ]
     },
     "execution_count": 91,
     "metadata": {},
     "output_type": "execute_result"
    }
   ],
   "source": [
    "SpacegroupAnalyzer(material).get_space_group_symbol()"
   ]
  },
  {
   "cell_type": "code",
   "execution_count": 104,
   "metadata": {},
   "outputs": [
    {
     "data": {
      "text/plain": [
       "[Structure Summary\n",
       " Lattice\n",
       "     abc : 3.38461958 4.44069755 5.40650212\n",
       "  angles : 90.0 90.0 90.0\n",
       "  volume : 81.26011546452555\n",
       "       A : 3.38461958 0.0 2.0724817674892294e-16\n",
       "       B : -2.719143020294497e-16 4.44069755 2.719143020294497e-16\n",
       "       C : 0.0 0.0 5.40650212\n",
       " PeriodicSite: Fe (0.0000, 0.0000, 0.0000) [0.0000, 0.0000, 0.0000]\n",
       " PeriodicSite: Fe (1.6923, 2.2203, 2.7033) [0.5000, 0.5000, 0.5000]\n",
       " PeriodicSite: S (1.6923, 1.3046, 4.7316) [0.5000, 0.2938, 0.8752]\n",
       " PeriodicSite: S (-0.0000, 0.9158, 2.0284) [0.0000, 0.2062, 0.3752]\n",
       " PeriodicSite: S (1.6923, 3.1361, 0.6749) [0.5000, 0.7062, 0.1248]\n",
       " PeriodicSite: S (-0.0000, 3.5249, 3.3781) [0.0000, 0.7938, 0.6248]]"
      ]
     },
     "execution_count": 104,
     "metadata": {},
     "output_type": "execute_result"
    }
   ],
   "source": [
    "from pymatgen.io.cif import CifParser\n",
    "parser = CifParser(fn_cif)\n",
    "structure = parser.get_structures()\n",
    "structure"
   ]
  },
  {
   "cell_type": "code",
   "execution_count": 115,
   "metadata": {},
   "outputs": [],
   "source": [
    "with open(fn_cif, 'r') as f:\n",
    "    cif_data = f.readlines()"
   ]
  },
  {
   "cell_type": "code",
   "execution_count": 116,
   "metadata": {},
   "outputs": [
    {
     "data": {
      "text/plain": [
       "['# generated using pymatgen\\n',\n",
       " 'data_FeS2\\n',\n",
       " \"_symmetry_space_group_name_H-M   'P 1'\\n\",\n",
       " '_cell_length_a   3.38461958\\n',\n",
       " '_cell_length_b   4.44069755\\n',\n",
       " '_cell_length_c   5.40650212\\n',\n",
       " '_cell_angle_alpha   90.00000000\\n',\n",
       " '_cell_angle_beta   90.00000000\\n',\n",
       " '_cell_angle_gamma   90.00000000\\n',\n",
       " '_symmetry_Int_Tables_number   1\\n',\n",
       " '_chemical_formula_structural   FeS2\\n',\n",
       " \"_chemical_formula_sum   'Fe2 S4'\\n\",\n",
       " '_cell_volume   81.26011547\\n',\n",
       " '_cell_formula_units_Z   2\\n',\n",
       " 'loop_\\n',\n",
       " ' _symmetry_equiv_pos_site_id\\n',\n",
       " ' _symmetry_equiv_pos_as_xyz\\n',\n",
       " \"  1  'x, y, z'\\n\",\n",
       " 'loop_\\n',\n",
       " ' _atom_site_type_symbol\\n',\n",
       " ' _atom_site_label\\n',\n",
       " ' _atom_site_symmetry_multiplicity\\n',\n",
       " ' _atom_site_fract_x\\n',\n",
       " ' _atom_site_fract_y\\n',\n",
       " ' _atom_site_fract_z\\n',\n",
       " ' _atom_site_occupancy\\n',\n",
       " '  Fe  Fe0  1  0.000000  0.000000  0.000000  1\\n',\n",
       " '  Fe  Fe1  1  0.500000  0.500000  0.500000  1\\n',\n",
       " '  S  S2  1  0.500000  0.293782  0.875173  1\\n',\n",
       " '  S  S3  1  0.000000  0.206218  0.375173  1\\n',\n",
       " '  S  S4  1  0.500000  0.706218  0.124827  1\\n',\n",
       " '  S  S5  1  0.000000  0.793782  0.624827  1\\n']"
      ]
     },
     "execution_count": 116,
     "metadata": {},
     "output_type": "execute_result"
    }
   ],
   "source": [
    "cif_data"
   ]
  },
  {
   "cell_type": "code",
   "execution_count": 128,
   "metadata": {},
   "outputs": [
    {
     "name": "stdout",
     "output_type": "stream",
     "text": [
      "Got it\n"
     ]
    }
   ],
   "source": [
    "for line in cif_data:\n",
    "    if '_symmetry_space_group_name_H-M' in line:\n",
    "        a = line.replace('_symmetry_space_group_name_H-M', '')\n",
    "        if 'P 1' in a:\n",
    "            print('Got it')"
   ]
  },
  {
   "cell_type": "markdown",
   "metadata": {},
   "source": [
    "## Get diffraction pattern"
   ]
  },
  {
   "cell_type": "code",
   "execution_count": 64,
   "metadata": {},
   "outputs": [],
   "source": [
    "c = XRDCalculator(wavelength=wl_xray)"
   ]
  },
  {
   "cell_type": "code",
   "execution_count": 65,
   "metadata": {},
   "outputs": [],
   "source": [
    "pattern = c.get_pattern(material, two_theta_range = xrange)"
   ]
  },
  {
   "cell_type": "markdown",
   "metadata": {},
   "source": [
    "## Extract twotheta, d-sp, int, hkl"
   ]
  },
  {
   "cell_type": "code",
   "execution_count": 66,
   "metadata": {},
   "outputs": [],
   "source": [
    "h = []; k = []; l = []\n",
    "for i in range(pattern.hkls.__len__()):\n",
    "    h.append(pattern.hkls[i][0]['hkl'][0])\n",
    "    k.append(pattern.hkls[i][0]['hkl'][1])\n",
    "    l.append(pattern.hkls[i][0]['hkl'][2])"
   ]
  },
  {
   "cell_type": "code",
   "execution_count": 67,
   "metadata": {},
   "outputs": [],
   "source": [
    "d_lines = [pattern.x, pattern.d_hkls, pattern.y, h, k, l ]\n",
    "diff_lines = np.transpose(np.asarray(d_lines))"
   ]
  },
  {
   "cell_type": "markdown",
   "metadata": {},
   "source": [
    "## Table output"
   ]
  },
  {
   "cell_type": "markdown",
   "metadata": {},
   "source": [
    "We can make a nice looking table using the `pandas` package.  `pandas` is more than looking-good table producer.  It is a powerful statistics package popular in data science."
   ]
  },
  {
   "cell_type": "code",
   "execution_count": 68,
   "metadata": {},
   "outputs": [],
   "source": [
    "if verbose:\n",
    "    table = pd.DataFrame(data = diff_lines,    # values\n",
    "        columns=['Two Theta', 'd-spacing', 'intensity', 'h', 'k', 'l'])  \n",
    "    # 1st row as the column names\n",
    "    table.head()"
   ]
  },
  {
   "cell_type": "markdown",
   "metadata": {},
   "source": [
    "## Plot peak positions generated from pymatgen"
   ]
  },
  {
   "cell_type": "code",
   "execution_count": 69,
   "metadata": {},
   "outputs": [
    {
     "data": {
      "image/png": "[encoded data removed]",
      "text/plain": [
       "<Figure size 576x216 with 1 Axes>"
      ]
     },
     "metadata": {
      "image/png": {
       "height": 190,
       "width": 480
      },
      "needs_background": "light"
     },
     "output_type": "display_data"
    }
   ],
   "source": [
    "f, ax = plt.subplots(figsize=(8,3))\n",
    "ax.vlines(diff_lines[:,0], 0., diff_lines[:,2], color='b');"
   ]
  },
  {
   "cell_type": "markdown",
   "metadata": {},
   "source": [
    "## Convert to JCPDS"
   ]
  },
  {
   "cell_type": "markdown",
   "metadata": {},
   "source": [
    "Setup an `jcpds` object from a `cif` file"
   ]
  },
  {
   "cell_type": "code",
   "execution_count": 70,
   "metadata": {},
   "outputs": [
    {
     "data": {
      "text/plain": [
       "True"
      ]
     },
     "execution_count": 70,
     "metadata": {},
     "output_type": "execute_result"
    }
   ],
   "source": [
    "material_jcpds = ds_jcpds.JCPDS()\n",
    "material_jcpds.set_from_cif(fn_cif, k0, k0p, \\\n",
    "                      thermal_expansion=alpha, \n",
    "                        two_theta_range=xrange)"
   ]
  },
  {
   "cell_type": "markdown",
   "metadata": {},
   "source": [
    "Calculate diffraction pattern at a pressure."
   ]
  },
  {
   "cell_type": "code",
   "execution_count": 71,
   "metadata": {},
   "outputs": [],
   "source": [
    "material_jcpds.cal_dsp(pressure = 100., temperature = 1000.)\n",
    "dl = material_jcpds.get_DiffractionLines()\n",
    "tth, inten = material_jcpds.get_tthVSint(wl_xray)"
   ]
  },
  {
   "cell_type": "code",
   "execution_count": 72,
   "metadata": {},
   "outputs": [
    {
     "data": {
      "text/plain": [
       "(7.5, 9)"
      ]
     },
     "execution_count": 72,
     "metadata": {},
     "output_type": "execute_result"
    },
    {
     "data": {
      "image/png": "[encoded data removed]",
      "text/plain": [
       "<Figure size 504x216 with 2 Axes>"
      ]
     },
     "metadata": {
      "image/png": {
       "height": 190,
       "width": 432
      },
      "needs_background": "light"
     },
     "output_type": "display_data"
    }
   ],
   "source": [
    "f, ax = plt.subplots(2, 1, figsize=(7,3), sharex=True)\n",
    "ax[0].vlines(diff_lines[:,0], 0., diff_lines[:,2], color='b')\n",
    "ax[1].vlines(tth, 0., inten, color = 'r')\n",
    "ax[0].set_xlim(7.5,9)"
   ]
  },
  {
   "cell_type": "markdown",
   "metadata": {},
   "source": [
    "## Save to a JCPDS file"
   ]
  },
  {
   "cell_type": "code",
   "execution_count": 73,
   "metadata": {},
   "outputs": [],
   "source": [
    "material_jcpds.write_to_file(fn_jcpds, comments=comments_jcpds)"
   ]
  },
  {
   "cell_type": "code",
   "execution_count": 74,
   "metadata": {},
   "outputs": [
    {
     "name": "stdout",
     "output_type": "stream",
     "text": [
      "4\n",
      "FeS2_mp-1522_primitive\n",
      "4 200.00 4.00 \n",
      "3.38462 4.44070 5.40650 \n",
      "3.1600e-05 \n",
      "d-spacing    I/I0     h   k   l \n",
      "3.431555 66.27 0.0 1.0 1.0 \n",
      "2.868826 2.80 1.0 0.0 1.0 \n",
      "2.703251 29.88 0.0 0.0 2.0 \n",
      "2.691874 100.00 1.0 1.0 0.0 \n"
     ]
    }
   ],
   "source": [
    "!head {fn_jcpds}"
   ]
  },
  {
   "cell_type": "markdown",
   "metadata": {},
   "source": [
    "# Read back the written JCPDS for test"
   ]
  },
  {
   "cell_type": "code",
   "execution_count": 75,
   "metadata": {},
   "outputs": [],
   "source": [
    "material_test = ds_jcpds.JCPDS(filename = fn_jcpds)"
   ]
  },
  {
   "cell_type": "code",
   "execution_count": 76,
   "metadata": {},
   "outputs": [],
   "source": [
    "material_test.cal_dsp(pressure = 100.)\n",
    "material_test.get_DiffractionLines()\n",
    "tth, inten = material_test.get_tthVSint(wl_xray)"
   ]
  },
  {
   "cell_type": "code",
   "execution_count": 77,
   "metadata": {},
   "outputs": [
    {
     "data": {
      "image/png": "[encoded data removed]",
      "text/plain": [
       "<Figure size 576x216 with 1 Axes>"
      ]
     },
     "metadata": {
      "image/png": {
       "height": 190,
       "width": 480
      },
      "needs_background": "light"
     },
     "output_type": "display_data"
    }
   ],
   "source": [
    "f = plt.figure(figsize=(8,3))\n",
    "plt.vlines(diff_lines[:,0], 0., diff_lines[:,2], color='b', label='0 GPa')\n",
    "plt.vlines(tth, 0., inten, color = 'r', label='100 GPa')\n",
    "plt.legend();"
   ]
  },
  {
   "cell_type": "markdown",
   "metadata": {},
   "source": [
    "# Check for possible errors in conversion"
   ]
  },
  {
   "cell_type": "markdown",
   "metadata": {},
   "source": [
    "The most common error in converting `cif` to `jcpds` is incorrect symmetry conversion.  The cell below check the symmetry conversion."
   ]
  },
  {
   "cell_type": "code",
   "execution_count": 78,
   "metadata": {},
   "outputs": [
    {
     "name": "stdout",
     "output_type": "stream",
     "text": [
      "symmetry seems to be fine\n"
     ]
    }
   ],
   "source": [
    "if crystal_system != material_jcpds.symmetry:\n",
    "    print('symmetry is different')\n",
    "else:\n",
    "    print('symmetry seems to be fine')"
   ]
  },
  {
   "cell_type": "code",
   "execution_count": null,
   "metadata": {},
   "outputs": [],
   "source": []
  }
 ],
 "metadata": {
  "anaconda-cloud": {},
  "kernelspec": {
   "display_name": "pkpo2019",
   "language": "python",
   "name": "pkpo2019"
  },
  "language_info": {
   "codemirror_mode": {
    "name": "ipython",
    "version": 3
   },
   "file_extension": ".py",
   "mimetype": "text/x-python",
   "name": "python",
   "nbconvert_exporter": "python",
   "pygments_lexer": "ipython3",
   "version": "3.6.6"
  },
  "latex_envs": {
   "LaTeX_envs_menu_present": true,
   "autocomplete": true,
   "bibliofile": "biblio.bib",
   "cite_by": "apalike",
   "current_citInitial": 1,
   "eqLabelWithNumbers": true,
   "eqNumInitial": 0,
   "hotkeys": {
    "equation": "Ctrl-E",
    "itemize": "Ctrl-I"
   },
   "labels_anchors": false,
   "latex_user_defs": false,
   "report_style_numbering": false,
   "user_envs_cfg": false
  },
  "nav_menu": {},
  "toc": {
   "navigate_menu": true,
   "number_sections": true,
   "sideBar": true,
   "threshold": 6,
   "toc_cell": false,
   "toc_section_display": "block",
   "toc_window_display": false
  }
 },
 "nbformat": 4,
 "nbformat_minor": 4
}
