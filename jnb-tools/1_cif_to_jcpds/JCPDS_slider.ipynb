{
 "cells": [
  {
   "cell_type": "markdown",
   "metadata": {},
   "source": [
    "# Interactive JCPDS"
   ]
  },
  {
   "cell_type": "code",
   "execution_count": 1,
   "metadata": {},
   "outputs": [],
   "source": [
    "%matplotlib inline"
   ]
  },
  {
   "cell_type": "markdown",
   "metadata": {},
   "source": [
    "* This notebook shows how to make jupyter notebook interactive."
   ]
  },
  {
   "cell_type": "code",
   "execution_count": 2,
   "metadata": {},
   "outputs": [
    {
     "name": "stdout",
     "output_type": "stream",
     "text": [
      "\u001b[1m\u001b[32m0JCPDSformat.txt\u001b[m\u001b[m*                alooh.jcpds\n",
      "Al2SiO5.jcpds                    \u001b[1m\u001b[32mar-NoTh.jcpds\u001b[m\u001b[m*\n",
      "Ar-hcp-NoTh.jcpds                \u001b[1m\u001b[32mau-Dewaele.jcpds\u001b[m\u001b[m*\n",
      "\u001b[1m\u001b[32mCF_75_Na.jcpds\u001b[m\u001b[m*                  \u001b[1m\u001b[32mau-Ye2017.jcpds\u001b[m\u001b[m*\n",
      "Ga2O3.jcpds                      \u001b[1m\u001b[32mau.jcpds\u001b[m\u001b[m*\n",
      "H-phase_Zhang2014.jcpds          bm-test.jcpds\n",
      "LICENSE                          \u001b[1m\u001b[32mcasio3-pv.jcpds\u001b[m\u001b[m*\n",
      "LiGaO2.jcpds                     \u001b[1m\u001b[32mcasio_Linbo3.jcpds\u001b[m\u001b[m*\n",
      "Linbo3_Megaw (1968).jcpds        \u001b[1m\u001b[32mdiamond-NoTh.jcpds\u001b[m\u001b[m*\n",
      "\u001b[1m\u001b[32mMg2FeAl2Si3O12-gt.jcpds\u001b[m\u001b[m*         \u001b[1m\u001b[32mmg0.8fe0.2sio3-opv.jcpds\u001b[m\u001b[m*\n",
      "Mg3Al2Si3O12-pyrope.jcpds        \u001b[1m\u001b[32mmg0.9fe0.1sio3-opv.jcpds\u001b[m\u001b[m*\n",
      "MgAl2O4 Liu 1978.jcpds           \u001b[1m\u001b[32mmg2sio4-g.jcpds\u001b[m\u001b[m*\n",
      "\u001b[1m\u001b[32mMgAlSiO3-gt.jcpds\u001b[m\u001b[m*               \u001b[1m\u001b[32mmgal2o4-CF.jcpds\u001b[m\u001b[m*\n",
      "\u001b[1m\u001b[32mMgAlSiO3-ilm.jcpds\u001b[m\u001b[m*              \u001b[1m\u001b[32mmgo-Ye2017.jcpds\u001b[m\u001b[m*\n",
      "\u001b[1m\u001b[32mMgAlSiO3-opv.jcpds\u001b[m\u001b[m*              \u001b[1m\u001b[32mmgo.jcpds\u001b[m\u001b[m*\n",
      "MgFe2SiO4-g.jcpds                \u001b[1m\u001b[32mmgsio3-ilm.jcpds\u001b[m\u001b[m*\n",
      "MgFeAlSiO3-cgt.jcpds             \u001b[1m\u001b[32mmgsio3-opv.jcpds\u001b[m\u001b[m*\n",
      "MgSiO3-bm.jcpds                  \u001b[1m\u001b[32mne-NoTh.jcpds\u001b[m\u001b[m*\n",
      "Na0.4Mg0.6Al1.6Si0.4O4-CF.jcpds  \u001b[1m\u001b[32mphaseD.jcpds\u001b[m\u001b[m*\n",
      "PhaseX.jcpds                     phaseH.jcpds\n",
      "README.md                        \u001b[1m\u001b[32mpt-Ye2017.jcpds\u001b[m\u001b[m*\n",
      "\u001b[1m\u001b[32mSiC.jcpds\u001b[m\u001b[m*                       \u001b[1m\u001b[32mpt.jcpds\u001b[m\u001b[m*\n",
      "TAPP_Harris1997.jcpds            \u001b[1m\u001b[32mre-NoTh.jcpds\u001b[m\u001b[m*\n",
      "\u001b[1m\u001b[32mTiC-NoTh.jcpds\u001b[m\u001b[m*                  \u001b[1m\u001b[32msio2-stv.jcpds\u001b[m\u001b[m*\n",
      "\u001b[1m\u001b[32mal2o3.jcpds\u001b[m\u001b[m*                     \u001b[1m\u001b[34mver3\u001b[m\u001b[m/\n"
     ]
    }
   ],
   "source": [
    "%ls ./jcpds/"
   ]
  },
  {
   "cell_type": "code",
   "execution_count": 3,
   "metadata": {},
   "outputs": [],
   "source": [
    "import numpy as np\n",
    "import pandas as pd\n",
    "import matplotlib.pyplot as plt"
   ]
  },
  {
   "cell_type": "code",
   "execution_count": 4,
   "metadata": {},
   "outputs": [],
   "source": [
    "from ipywidgets import interactive\n",
    "import ipywidgets as widgets"
   ]
  },
  {
   "cell_type": "code",
   "execution_count": 5,
   "metadata": {},
   "outputs": [],
   "source": [
    "import pymatgen as mg\n",
    "from pymatgen import Lattice, Structure\n",
    "from pymatgen.analysis.diffraction.xrd import XRDCalculator\n",
    "from pymatgen.symmetry.analyzer import SpacegroupAnalyzer"
   ]
  },
  {
   "cell_type": "code",
   "execution_count": 7,
   "metadata": {},
   "outputs": [],
   "source": [
    "import sys\n",
    "sys.path.append('../../peakpo/')\n",
    "sys.path.append('../local_modules')\n",
    "import ds_jcpds"
   ]
  },
  {
   "cell_type": "code",
   "execution_count": 8,
   "metadata": {},
   "outputs": [],
   "source": [
    "fn_jcpds = './jcpds/MgSiO3-bm.jcpds'"
   ]
  },
  {
   "cell_type": "code",
   "execution_count": 9,
   "metadata": {},
   "outputs": [],
   "source": [
    "wl_xray = 0.3344\n",
    "xrange = (0,40)"
   ]
  },
  {
   "cell_type": "markdown",
   "metadata": {},
   "source": [
    "## Read back the written JCPDS for test"
   ]
  },
  {
   "cell_type": "code",
   "execution_count": 10,
   "metadata": {},
   "outputs": [],
   "source": [
    "bm_high_p = ds_jcpds.JCPDS(filename = fn_jcpds)"
   ]
  },
  {
   "cell_type": "code",
   "execution_count": 11,
   "metadata": {},
   "outputs": [
    {
     "data": {
      "image/png": "[encoded data removed]",
      "text/plain": [
       "<Figure size 504x216 with 1 Axes>"
      ]
     },
     "metadata": {
      "image/png": {
       "height": 194,
       "width": 430
      },
      "needs_background": "light"
     },
     "output_type": "display_data"
    }
   ],
   "source": [
    "def f(pressure=0., temperature=300.):\n",
    "    plt.figure(figsize=(7,3))\n",
    "    bm_high_p.cal_dsp(pressure = pressure, temperature=temperature)\n",
    "    bm_high_p.get_DiffractionLines()\n",
    "    tth, inten = bm_high_p.get_tthVSint(wl_xray)\n",
    "    plt.vlines(tth, 0., inten, color = 'r')\n",
    "    plt.ylim(0, 100)\n",
    "    plt.xlim(1,30)\n",
    "    plt.grid(True)\n",
    "    plt.show()\n",
    "\n",
    "interactive_plot = interactive(f, \n",
    "                               pressure=widgets.FloatSlider(min=0, max=100, step=1, readout_format='.0f'), \n",
    "                               temperature=widgets.FloatSlider(min=300, max=3000, step=10, readout_format='.0f'))\n",
    "output = interactive_plot.children[-1]\n",
    "#output.layout.height = '300px'\n",
    "interactive_plot"
   ]
  },
  {
   "cell_type": "markdown",
   "metadata": {},
   "source": [
    "## Can we also change unit-cell parameters?"
   ]
  },
  {
   "cell_type": "code",
   "execution_count": 12,
   "metadata": {},
   "outputs": [],
   "source": [
    "a_0 = bm_high_p.a0\n",
    "b_0 = bm_high_p.b0\n",
    "c_0 = bm_high_p.c0"
   ]
  },
  {
   "cell_type": "code",
   "execution_count": 13,
   "metadata": {},
   "outputs": [],
   "source": [
    "v_0 = bm_high_p.v0"
   ]
  },
  {
   "cell_type": "code",
   "execution_count": 14,
   "metadata": {},
   "outputs": [
    {
     "data": {
      "text/plain": [
       "\u001b[0;31mSignature:\u001b[0m\n",
       "\u001b[0mbm_high_p\u001b[0m\u001b[0;34m.\u001b[0m\u001b[0mcal_dsp\u001b[0m\u001b[0;34m(\u001b[0m\u001b[0;34m\u001b[0m\n",
       "\u001b[0;34m\u001b[0m    \u001b[0mpressure\u001b[0m\u001b[0;34m=\u001b[0m\u001b[0;36m0.0\u001b[0m\u001b[0;34m,\u001b[0m\u001b[0;34m\u001b[0m\n",
       "\u001b[0;34m\u001b[0m    \u001b[0mtemperature\u001b[0m\u001b[0;34m=\u001b[0m\u001b[0;36m300.0\u001b[0m\u001b[0;34m,\u001b[0m\u001b[0;34m\u001b[0m\n",
       "\u001b[0;34m\u001b[0m    \u001b[0mb_a\u001b[0m\u001b[0;34m=\u001b[0m\u001b[0;32mNone\u001b[0m\u001b[0;34m,\u001b[0m\u001b[0;34m\u001b[0m\n",
       "\u001b[0;34m\u001b[0m    \u001b[0mc_a\u001b[0m\u001b[0;34m=\u001b[0m\u001b[0;32mNone\u001b[0m\u001b[0;34m,\u001b[0m\u001b[0;34m\u001b[0m\n",
       "\u001b[0;34m\u001b[0m    \u001b[0muse_table_for_0GPa\u001b[0m\u001b[0;34m=\u001b[0m\u001b[0;32mTrue\u001b[0m\u001b[0;34m,\u001b[0m\u001b[0;34m\u001b[0m\n",
       "\u001b[0;34m\u001b[0m\u001b[0;34m)\u001b[0m\u001b[0;34m\u001b[0m\u001b[0m\n",
       "\u001b[0;31mDocstring:\u001b[0m\n",
       "b_a and c_a are newly included for adjusting axial ratios.\n",
       "For cubic structure, these two inputs are ignored.\n",
       "For tetragonal and hexagonal, only c_a will be used.\n",
       "\n",
       "recalculate_zero = False: use the table d-spacing value for 0 GPa\n",
       "\u001b[0;31mFile:\u001b[0m      ~/Dropbox (ASU)/Python/PeakPo-v7/peakpo/ds_jcpds/jcpds.py\n",
       "\u001b[0;31mType:\u001b[0m      method\n"
      ]
     },
     "metadata": {},
     "output_type": "display_data"
    }
   ],
   "source": [
    "?bm_high_p.cal_dsp"
   ]
  },
  {
   "cell_type": "code",
   "execution_count": 15,
   "metadata": {},
   "outputs": [
    {
     "data": {
      "image/png": "[encoded data removed]",
      "text/plain": [
       "<Figure size 504x216 with 1 Axes>"
      ]
     },
     "metadata": {
      "image/png": {
       "height": 194,
       "width": 430
      },
      "needs_background": "light"
     },
     "output_type": "display_data"
    }
   ],
   "source": [
    "def f(pressure=0., temperature=300., a0=a_0, b0=b_0, c0=c_0):\n",
    "    plt.figure(figsize=(7,3))\n",
    "    bm_high_p.a0 = a0\n",
    "    bm_high_p.b0 = b0\n",
    "    bm_high_p.c0 = c0\n",
    "    bm_high_p.cal_dsp(pressure = pressure, temperature=temperature,\n",
    "                     use_table_for_0GPa=False)\n",
    "    bm_high_p.get_DiffractionLines()\n",
    "    tth, inten = bm_high_p.get_tthVSint(wl_xray)\n",
    "    plt.vlines(tth, 0., inten, color = 'r')\n",
    "    plt.ylim(0, 100)\n",
    "    plt.xlim(1,30)\n",
    "    plt.grid(True)\n",
    "    plt.show()\n",
    "\n",
    "min_frac=0.9\n",
    "max_frac=1.1\n",
    "interactive_plot = interactive(f, \n",
    "                               pressure=widgets.FloatSlider(min=0, max=100, step=1, readout_format='.0f'), \n",
    "                               temperature=widgets.FloatSlider(min=300, max=3000, step=10, readout_format='.0f'),\n",
    "                               a0=widgets.FloatSlider(value=a_0, min=a_0*min_frac, max=a_0*max_frac, step=0.001, readout_format='.3f'),\n",
    "                               b0=widgets.FloatSlider(value=b_0, min=b_0*min_frac, max=b_0*max_frac, step=0.001, readout_format='.3f'),\n",
    "                               c0=widgets.FloatSlider(value=c_0, min=c_0*min_frac, max=c_0*max_frac, step=0.001, readout_format='.3f'))\n",
    "output = interactive_plot.children[-1]\n",
    "#output.layout.height = '300px'\n",
    "interactive_plot"
   ]
  },
  {
   "cell_type": "code",
   "execution_count": null,
   "metadata": {},
   "outputs": [],
   "source": []
  },
  {
   "cell_type": "code",
   "execution_count": null,
   "metadata": {},
   "outputs": [],
   "source": []
  }
 ],
 "metadata": {
  "anaconda-cloud": {},
  "kernelspec": {
   "display_name": "Python 3",
   "language": "python",
   "name": "python3"
  },
  "language_info": {
   "codemirror_mode": {
    "name": "ipython",
    "version": 3
   },
   "file_extension": ".py",
   "mimetype": "text/x-python",
   "name": "python",
   "nbconvert_exporter": "python",
   "pygments_lexer": "ipython3",
   "version": "3.7.0"
  },
  "latex_envs": {
   "LaTeX_envs_menu_present": true,
   "autocomplete": true,
   "bibliofile": "biblio.bib",
   "cite_by": "apalike",
   "current_citInitial": 1,
   "eqLabelWithNumbers": true,
   "eqNumInitial": 0,
   "hotkeys": {
    "equation": "Ctrl-E",
    "itemize": "Ctrl-I"
   },
   "labels_anchors": false,
   "latex_user_defs": false,
   "report_style_numbering": false,
   "user_envs_cfg": false
  },
  "nav_menu": {},
  "toc": {
   "navigate_menu": true,
   "number_sections": true,
   "sideBar": true,
   "threshold": 6,
   "toc_cell": false,
   "toc_section_display": "block",
   "toc_window_display": false
  }
 },
 "nbformat": 4,
 "nbformat_minor": 4
}
