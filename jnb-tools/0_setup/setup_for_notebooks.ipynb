{
 "cells": [
  {
   "cell_type": "markdown",
   "metadata": {},
   "source": [
    "# Folder structure"
   ]
  },
  {
   "cell_type": "markdown",
   "metadata": {},
   "source": [
    "- Notebooks under the original `/XRD-peakpo` folder reads local modules from `/XRD-peakpo/local_modules`.  The notebooks are all located one below the `/XRD-peakpo/` folder.  Therefore, you should include the following code to make the notebooks function properly.\n",
    "\n",
    "```python\n",
    "import sys\n",
    "sys.path.append('../local_modules')\n",
    "```"
   ]
  },
  {
   "cell_type": "markdown",
   "metadata": {},
   "source": [
    "# How to setup kernel for the notebooks in this folder\n",
    "\n",
    "- Run this notebook file under `PeakPo` conda environment.  For detail, check instructions in this [website](https://github.com/SHDShim/PeakPo/wiki/Quick-Install)."
   ]
  },
  {
   "cell_type": "markdown",
   "metadata": {},
   "source": [
    "# How to resolve dpp version issue"
   ]
  },
  {
   "cell_type": "markdown",
   "metadata": {},
   "source": [
    "- As of April 2019, we have an issue with `dpp` incompatibility caused by `pyFAI`.  If you made your `dpp` with `pyFAI` older than version `0.15`, then you cannot read them with `pyFAI` version `0.17` or later.  The example files I provide here is made with an old `pyFAI`.\n",
    "\n",
    "- If you have an error in reading your dpp by: `model_dpp = dill.load(f)`, please follow the instruction below.\n",
    "\n",
    "    - Do not change or remove your working `PeakPo` conda environment.  Instead, we will clone it.\n",
    "    ```bash\n",
    "    conda create --name <new-env-with-old-pyFAI> --clone <your-existing-env-for-peakpo>\n",
    "    \n",
    "    conda activate <your-existing-env-for-peakpo>\n",
    "    \n",
    "    conda install pyfai==0.15\n",
    "    ```\n",
    "\n",
    "\n",
    "    - Now you can run `jupyter lab` and try this notebook with the new clonned environment.\n",
    "    \n",
    "    - If you do not see your new conda environment in the kernel list, please add your new conda environment following the instruction below.\n",
    "\n",
    "- How to add a conda kernel\n",
    "\n",
    "```bash\n",
    "$ conda install ipykernel  # only if you do not have ipykernel installed.\n",
    "\n",
    "$ python -m ipykernel install --user --name <conda-env-to-add> --display-name <conda-env-to-add>\n",
    "\n",
    "```"
   ]
  },
  {
   "cell_type": "code",
   "execution_count": null,
   "metadata": {},
   "outputs": [],
   "source": []
  }
 ],
 "metadata": {
  "kernelspec": {
   "display_name": "Python 3",
   "language": "python",
   "name": "python3"
  },
  "language_info": {
   "codemirror_mode": {
    "name": "ipython",
    "version": 3
   },
   "file_extension": ".py",
   "mimetype": "text/x-python",
   "name": "python",
   "nbconvert_exporter": "python",
   "pygments_lexer": "ipython3",
   "version": "3.7.3"
  }
 },
 "nbformat": 4,
 "nbformat_minor": 2
}
