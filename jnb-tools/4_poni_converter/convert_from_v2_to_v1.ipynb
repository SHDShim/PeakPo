{
 "cells": [
  {
   "cell_type": "markdown",
   "metadata": {},
   "source": [
    "# Poni converter to version 1"
   ]
  },
  {
   "cell_type": "markdown",
   "metadata": {},
   "source": [
    "At least between `pyFAI` `0.18.0` and `0.14.2` we found conversion in `PONI` file format.  At synchrotron, we often find latest `PONI` but not in our own computers.  \n",
    "\n",
    "This notebook allow you to convert `PONI` to older version."
   ]
  },
  {
   "cell_type": "code",
   "execution_count": 16,
   "metadata": {},
   "outputs": [],
   "source": [
    "import collections"
   ]
  },
  {
   "cell_type": "code",
   "execution_count": 17,
   "metadata": {},
   "outputs": [],
   "source": [
    "def read_from_file(filename):\n",
    "    data = collections.OrderedDict()\n",
    "    with open(filename) as opened_file:\n",
    "        for line in opened_file:\n",
    "            if line.startswith(\"#\") or (\":\" not in line):\n",
    "                continue\n",
    "            words = line.split(\":\", 1)\n",
    "\n",
    "            key = words[0].strip().lower()\n",
    "            try:\n",
    "                value = words[1].strip()\n",
    "            except Exception as error:  # IGNORE:W0703:\n",
    "                _logger.error(\"Error %s with line: %s\", error, line)\n",
    "            data[key] = value\n",
    "    return data\n"
   ]
  },
  {
   "cell_type": "code",
   "execution_count": 88,
   "metadata": {},
   "outputs": [],
   "source": [
    "def write_to_v1(filename_v2):\n",
    "    filename_v1 = filename_v2+'.v1.poni'\n",
    "    data_v2 = read_from_file(filename_v2)\n",
    "    fd = open(filename_v1, \"w\") \n",
    "    fd.write((\"# Nota: C-Order, 1 refers to the Y axis,\" \n",
    "             \" 2 to the X axis \\n\"))\n",
    "    fd.write(\"# Converted from %s\\n\" % filename_v2)\n",
    "    pixel1 = data_v2['detector_config'].split(\",\")[0].split(\":\")[1]\n",
    "    pixel2 = data_v2['detector_config'].split(\",\")[1].split(\":\")[1]\n",
    "    fd.write('PixelSize1: %s \\n' % pixel1)\n",
    "    fd.write('PixelSize2: %s \\n' % pixel2)\n",
    "    fd.write(\"Distance: %s\\n\" % data_v2['distance'])\n",
    "    fd.write(\"Poni1: %s\\n\" % data_v2['poni1'])\n",
    "    fd.write(\"Poni2: %s\\n\" % data_v2['poni2'])\n",
    "    fd.write(\"Rot1: %s\\n\" % data_v2['rot1'])\n",
    "    fd.write(\"Rot2: %s\\n\" % data_v2['rot2'])\n",
    "    fd.write(\"Rot3: %s\\n\" % data_v2['rot3'])\n",
    "    fd.write(\"Wavelength: %s\\n\" % data_v2['wavelength'])"
   ]
  },
  {
   "cell_type": "code",
   "execution_count": 89,
   "metadata": {},
   "outputs": [
    {
     "name": "stdout",
     "output_type": "stream",
     "text": [
      "\u001b[1m\u001b[32mLaB6_30keV_P_cen_p30_w_003.poni\u001b[m\u001b[m*\n",
      "LaB6_30keV_P_cen_p30_w_003.poni.v1.poni\n",
      "\u001b[1m\u001b[32mLaB6_30keV_P_cen_p30_w_003_v1.poni\u001b[m\u001b[m*\n",
      "LaB6_30keV_P_cen_p30_w_003_v1.poni.v2.poni\n"
     ]
    }
   ],
   "source": [
    "%ls examples"
   ]
  },
  {
   "cell_type": "code",
   "execution_count": 90,
   "metadata": {},
   "outputs": [],
   "source": [
    "v2_poni_file = './examples/LaB6_30keV_P_cen_p30_w_003.poni'"
   ]
  },
  {
   "cell_type": "code",
   "execution_count": 91,
   "metadata": {},
   "outputs": [
    {
     "name": "stdout",
     "output_type": "stream",
     "text": [
      "# Nota: C-Order, 1 refers to the Y axis, 2 to the X axis \n",
      "# Calibration done at Tue Jun 11 10:05:24 2019\n",
      "poni_version: 2\n",
      "Detector: Detector\n",
      "Detector_config: {\"pixel1\": 0.00017199999999999998, \"pixel2\": 0.00017199999999999998, \"max_shape\": null}\n",
      "Distance: 0.2066452967230314\n",
      "Poni1: 0.08837240288345048\n",
      "Poni2: 0.08583602722262859\n",
      "Rot1: 0.007051430367455946\n",
      "Rot2: -0.0005294792690823279\n",
      "Rot3: -1.293806679871415e-09\n",
      "Wavelength: 4.133e-11\n"
     ]
    }
   ],
   "source": [
    "%cat $v2_poni_file"
   ]
  },
  {
   "cell_type": "code",
   "execution_count": 92,
   "metadata": {},
   "outputs": [
    {
     "data": {
      "text/plain": [
       "OrderedDict([('poni_version', '2'),\n",
       "             ('detector', 'Detector'),\n",
       "             ('detector_config',\n",
       "              '{\"pixel1\": 0.00017199999999999998, \"pixel2\": 0.00017199999999999998, \"max_shape\": null}'),\n",
       "             ('distance', '0.2066452967230314'),\n",
       "             ('poni1', '0.08837240288345048'),\n",
       "             ('poni2', '0.08583602722262859'),\n",
       "             ('rot1', '0.007051430367455946'),\n",
       "             ('rot2', '-0.0005294792690823279'),\n",
       "             ('rot3', '-1.293806679871415e-09'),\n",
       "             ('wavelength', '4.133e-11')])"
      ]
     },
     "execution_count": 92,
     "metadata": {},
     "output_type": "execute_result"
    }
   ],
   "source": [
    "v2_poni_info = read_from_file(v2_poni_file)\n",
    "v2_poni_info"
   ]
  },
  {
   "cell_type": "code",
   "execution_count": 93,
   "metadata": {},
   "outputs": [],
   "source": [
    "filename_v2 = v2_poni_file"
   ]
  },
  {
   "cell_type": "code",
   "execution_count": 94,
   "metadata": {},
   "outputs": [],
   "source": [
    "write_to_v1(filename_v2)"
   ]
  },
  {
   "cell_type": "code",
   "execution_count": 95,
   "metadata": {},
   "outputs": [
    {
     "name": "stdout",
     "output_type": "stream",
     "text": [
      "\u001b[1m\u001b[32mLaB6_30keV_P_cen_p30_w_003.poni\u001b[m\u001b[m*\n",
      "LaB6_30keV_P_cen_p30_w_003.poni.v1.poni\n",
      "\u001b[1m\u001b[32mLaB6_30keV_P_cen_p30_w_003_v1.poni\u001b[m\u001b[m*\n",
      "LaB6_30keV_P_cen_p30_w_003_v1.poni.v2.poni\n"
     ]
    }
   ],
   "source": [
    "%ls ./examples"
   ]
  },
  {
   "cell_type": "code",
   "execution_count": 96,
   "metadata": {},
   "outputs": [
    {
     "name": "stdout",
     "output_type": "stream",
     "text": [
      "# Nota: C-Order, 1 refers to the Y axis, 2 to the X axis \n",
      "# Converted from ./examples/LaB6_30keV_P_cen_p30_w_003.poni\n",
      "PixelSize1:  0.00017199999999999998 \n",
      "PixelSize2:  0.00017199999999999998 \n",
      "Distance: 0.2066452967230314\n",
      "Poni1: 0.08837240288345048\n",
      "Poni2: 0.08583602722262859\n",
      "Rot1: 0.007051430367455946\n",
      "Rot2: -0.0005294792690823279\n",
      "Rot3: -1.293806679871415e-09\n",
      "Wavelength: 4.133e-11\n"
     ]
    }
   ],
   "source": [
    "%cat ./examples/LaB6_30keV_P_cen_p30_w_003.poni.v1.poni"
   ]
  },
  {
   "cell_type": "code",
   "execution_count": null,
   "metadata": {},
   "outputs": [],
   "source": [
    "\n",
    "\n"
   ]
  }
 ],
 "metadata": {
  "kernelspec": {
   "display_name": "Python 3",
   "language": "python",
   "name": "python3"
  },
  "language_info": {
   "codemirror_mode": {
    "name": "ipython",
    "version": 3
   },
   "file_extension": ".py",
   "mimetype": "text/x-python",
   "name": "python",
   "nbconvert_exporter": "python",
   "pygments_lexer": "ipython3",
   "version": "3.6.9"
  }
 },
 "nbformat": 4,
 "nbformat_minor": 4
}
